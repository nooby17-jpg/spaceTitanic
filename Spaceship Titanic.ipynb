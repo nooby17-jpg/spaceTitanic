{
 "cells": [
  {
   "cell_type": "markdown",
   "id": "ea695dfd",
   "metadata": {},
   "source": [
    "<h1 style=\"; font-weight:bold\"> Spaceship Titanic Analysis & ML </h1>\n",
    "\n",
    "<p style=\"margin-left:30%\">~  Nikhil Sharma</p>"
   ]
  },
  {
   "cell_type": "markdown",
   "id": "56fd60fb",
   "metadata": {},
   "source": [
    "# Table of Contents\n",
    "\n",
    "<ol style= 'list-style-type: decimal'>\n",
    "    <li><a href=\"#Introduction\">Introduction</a></li>\n",
    "    <li><a href=\"#data_understanding\">Data Understanding</a></li>\n",
    "    <li>\n",
    "        <a href=\"#data_preparation\">Data Preparation</a>\n",
    "        <ol style= 'list-style-type: decimal' >\n",
    "            <li><a href=\"#libraries\">Import Required Libraries</a></li>\n",
    "            <li><a href=\"#data_loading\">Data Loading</a></li>\n",
    "            <li><a href=\"#data_info\">Brief Data Information</a></li>\n",
    "        </ol>\n",
    "    </li>\n",
    "    <li>\n",
    "        <a href=\"#data_preprocessing\">Data Preprocessing</a>\n",
    "        <ol style= 'list-style-type: decimal'>\n",
    "            <li><a href=\"#data_cleaning\">Imputing Missing Values</a></li>\n",
    "            <li><a href=\"#feature_engineering\">Feature Engineering</a></li>\n",
    "        </ol>\n",
    "    </li>\n",
    "    <li>\n",
    "        <a href=\"model\">Model Building</a>\n",
    "    </li>\n",
    "    <li><a href=\"#conclusion\">Conclusion</a></li>\n",
    " </ol>    \n"
   ]
  },
  {
   "cell_type": "markdown",
   "id": "a7242f8d",
   "metadata": {},
   "source": [
    "# 1. Introduction: <a class=\"anchor\" id=\"introduction\"></a>\n",
    "Welcome to the year 2912, where your data science skills are needed to solve a cosmic mystery. We've received a transmission from four lightyears away and things aren't looking good.\n",
    "\n",
    "The Spaceship Titanic was an interstellar passenger liner launched a month ago. With almost 13,000 passengers on board, the vessel set out on its maiden voyage transporting emigrants from our solar system to three newly habitable exoplanets orbiting nearby stars.\n",
    "\n",
    "While rounding Alpha Centauri en route to its first destination—the torrid 55 Cancri E—the unwary Spaceship Titanic collided with a spacetime anomaly hidden within a dust cloud. Sadly, it met a similar fate as its namesake from 1000 years before. Though the ship stayed intact, almost half of the passengers were transported to an alternate dimension!\n",
    "\n",
    "To help rescue crews and retrieve the lost passengers, you are challenged to predict which passengers were transported by the anomaly using records recovered from the spaceship’s damaged computer system.\n",
    "\n",
    "Help save them and change history!\n"
   ]
  },
  {
   "cell_type": "markdown",
   "id": "f6829719",
   "metadata": {},
   "source": [
    "# 2. Data Understanding:<a class=\"anchor\" id=\"data_understanding\"></a>\n",
    "\n",
    "\n",
    "Our task is to predict whether a passenger was transported to an alternate dimension during the Spaceship Titanic's collision with the space-time anomaly. To help us make these predictions, we're given a set of personal records recovered from the ship's damaged computer system.\n",
    "<ol>\n",
    "    <li><b>Train.csv </b>- Personal records for about two-thirds (~8700) of the passengers, to be used as training data.\n",
    "        <ol>\n",
    "            <li>\n",
    "                <b>PassengerId</b> - A unique Id for each passenger. Each Id takes the form gggg_pp where gggg indicates a group the passenger is travelling with and pp is their number within the group. People in a group are often family members, but not always.\n",
    "            </li>\n",
    "            <li>\n",
    "                <b>HomePlanet </b>- The planet the passenger departed from, typically their planet of permanent residence.\n",
    "            </li>\n",
    "            <li>\n",
    "           <b> CryoSleep</b> - Indicates whether the passenger elected to be put into suspended animation for the duration of the voyage. Passengers in cryosleep are confined to their cabins.\n",
    "            </li>\n",
    "            <li>\n",
    "           <b> Cabin</b> - The cabin number where the passenger is staying. Takes the form deck/num/side, where side can be either P for Port or S for Starboard.\n",
    "            </li>\n",
    "            <li>\n",
    "            <b>Destination</b> - The planet the passenger will be debarking to.\n",
    "            </li>\n",
    "            <li>\n",
    "          <b> Age </b>- The age of the passenger.\n",
    "            </li>\n",
    "             <li>\n",
    "          <b>VIP </b>- Whether the passenger has paid for special VIP service during the voyage.\n",
    "            </li>\n",
    "             <li>\n",
    "          <b> RoomService, FoodCourt, ShoppingMall, Spa, VRDeck</b> - Amount the passenger has billed at each of the Spaceship Titanic's many luxury amenities.\n",
    "            </li>\n",
    "             <li>\n",
    "   <b> Name </b>- The first and last names of the passenger.\n",
    "            </li>\n",
    "            <li>\n",
    "   <b> Transported </b>- Whether the passenger was transported to another dimension. This is the target, the column you are trying to predict.\n",
    "            </li>\n",
    "        </ol>\n",
    "    </li>\n",
    "    <li>\n",
    "\n",
    "   <b> test.csv </b>- Personal records for the remaining one-third (~4300) of the passengers, to be used as test data. Your task is to predict the value of Transported for the passengers in this set.\n",
    "    </li>\n",
    "<ol/>\n"
   ]
  },
  {
   "cell_type": "markdown",
   "id": "f40e7d3d",
   "metadata": {},
   "source": [
    "# 3. Data Preparation:<a class=\"anchor\" id=\"data_preparation\"></a>\n",
    "In this Section:\n",
    "* We will Install and Import the required Libraries.\n",
    "* We will load the data.\n",
    "* We will see few basic information about our data."
   ]
  },
  {
   "cell_type": "markdown",
   "id": "69e40388",
   "metadata": {},
   "source": [
    "## 3.1 Import Required Libraries:<a class=\"anchor\" id=\"libraries\"></a>"
   ]
  },
  {
   "cell_type": "code",
   "execution_count": 1,
   "id": "51c3842a",
   "metadata": {},
   "outputs": [],
   "source": [
    "#Import Required Librarires\n",
    "import numpy as np\n",
    "import pandas as pd\n",
    "import matplotlib.pyplot as plt\n",
    "import seaborn as sns\n",
    "\n",
    "#For Model training\n",
    "from sklearn.linear_model import LogisticRegression\n",
    "from sklearn.neighbors import KNeighborsClassifier\n",
    "from xgboost import XGBClassifier\n",
    "from sklearn.ensemble import GradientBoostingClassifier\n",
    "\n",
    "\n",
    "#Libraries for splitting the data and tuning the parameters of models.\n",
    "from sklearn.model_selection import train_test_split\n",
    "from sklearn.model_selection import GridSearchCV\n",
    "from sklearn.model_selection import RandomizedSearchCV\n",
    "\n",
    "#Supress Warning\n",
    "def warn(*args, **kwargs):\n",
    "    pass\n",
    "import warnings\n",
    "warnings.warn = warn\n",
    "warnings.simplefilter(action='ignore', category=FutureWarning)"
   ]
  },
  {
   "cell_type": "markdown",
   "id": "4c6aab5c",
   "metadata": {},
   "source": [
    "### 3.2 Data Loading:<a class=\"anchor\" id=\"data_loading\"></a>"
   ]
  },
  {
   "cell_type": "code",
   "execution_count": 2,
   "id": "bef2ddc1",
   "metadata": {},
   "outputs": [],
   "source": [
    "test_data = pd.read_csv('data/test.csv')\n",
    "train_data = pd.read_csv('data/train.csv')"
   ]
  },
  {
   "cell_type": "code",
   "execution_count": 3,
   "id": "02ac7b7f",
   "metadata": {},
   "outputs": [
    {
     "data": {
      "text/html": [
       "<div>\n",
       "<style scoped>\n",
       "    .dataframe tbody tr th:only-of-type {\n",
       "        vertical-align: middle;\n",
       "    }\n",
       "\n",
       "    .dataframe tbody tr th {\n",
       "        vertical-align: top;\n",
       "    }\n",
       "\n",
       "    .dataframe thead th {\n",
       "        text-align: right;\n",
       "    }\n",
       "</style>\n",
       "<table border=\"1\" class=\"dataframe\">\n",
       "  <thead>\n",
       "    <tr style=\"text-align: right;\">\n",
       "      <th></th>\n",
       "      <th>PassengerId</th>\n",
       "      <th>HomePlanet</th>\n",
       "      <th>CryoSleep</th>\n",
       "      <th>Cabin</th>\n",
       "      <th>Destination</th>\n",
       "      <th>Age</th>\n",
       "      <th>VIP</th>\n",
       "      <th>RoomService</th>\n",
       "      <th>FoodCourt</th>\n",
       "      <th>ShoppingMall</th>\n",
       "      <th>Spa</th>\n",
       "      <th>VRDeck</th>\n",
       "      <th>Name</th>\n",
       "      <th>Transported</th>\n",
       "    </tr>\n",
       "  </thead>\n",
       "  <tbody>\n",
       "    <tr>\n",
       "      <th>0</th>\n",
       "      <td>0001_01</td>\n",
       "      <td>Europa</td>\n",
       "      <td>False</td>\n",
       "      <td>B/0/P</td>\n",
       "      <td>TRAPPIST-1e</td>\n",
       "      <td>39.0</td>\n",
       "      <td>False</td>\n",
       "      <td>0.0</td>\n",
       "      <td>0.0</td>\n",
       "      <td>0.0</td>\n",
       "      <td>0.0</td>\n",
       "      <td>0.0</td>\n",
       "      <td>Maham Ofracculy</td>\n",
       "      <td>False</td>\n",
       "    </tr>\n",
       "    <tr>\n",
       "      <th>1</th>\n",
       "      <td>0002_01</td>\n",
       "      <td>Earth</td>\n",
       "      <td>False</td>\n",
       "      <td>F/0/S</td>\n",
       "      <td>TRAPPIST-1e</td>\n",
       "      <td>24.0</td>\n",
       "      <td>False</td>\n",
       "      <td>109.0</td>\n",
       "      <td>9.0</td>\n",
       "      <td>25.0</td>\n",
       "      <td>549.0</td>\n",
       "      <td>44.0</td>\n",
       "      <td>Juanna Vines</td>\n",
       "      <td>True</td>\n",
       "    </tr>\n",
       "    <tr>\n",
       "      <th>2</th>\n",
       "      <td>0003_01</td>\n",
       "      <td>Europa</td>\n",
       "      <td>False</td>\n",
       "      <td>A/0/S</td>\n",
       "      <td>TRAPPIST-1e</td>\n",
       "      <td>58.0</td>\n",
       "      <td>True</td>\n",
       "      <td>43.0</td>\n",
       "      <td>3576.0</td>\n",
       "      <td>0.0</td>\n",
       "      <td>6715.0</td>\n",
       "      <td>49.0</td>\n",
       "      <td>Altark Susent</td>\n",
       "      <td>False</td>\n",
       "    </tr>\n",
       "  </tbody>\n",
       "</table>\n",
       "</div>"
      ],
      "text/plain": [
       "  PassengerId HomePlanet CryoSleep  Cabin  Destination   Age    VIP  \\\n",
       "0     0001_01     Europa     False  B/0/P  TRAPPIST-1e  39.0  False   \n",
       "1     0002_01      Earth     False  F/0/S  TRAPPIST-1e  24.0  False   \n",
       "2     0003_01     Europa     False  A/0/S  TRAPPIST-1e  58.0   True   \n",
       "\n",
       "   RoomService  FoodCourt  ShoppingMall     Spa  VRDeck             Name  \\\n",
       "0          0.0        0.0           0.0     0.0     0.0  Maham Ofracculy   \n",
       "1        109.0        9.0          25.0   549.0    44.0     Juanna Vines   \n",
       "2         43.0     3576.0           0.0  6715.0    49.0    Altark Susent   \n",
       "\n",
       "   Transported  \n",
       "0        False  \n",
       "1         True  \n",
       "2        False  "
      ]
     },
     "execution_count": 3,
     "metadata": {},
     "output_type": "execute_result"
    }
   ],
   "source": [
    "train_data.head(3)"
   ]
  },
  {
   "cell_type": "markdown",
   "id": "7e429658",
   "metadata": {},
   "source": [
    "### 3.3 Brief Data Information:<a class=\"anchor\" id=\"data_info\"></a>\n",
    "  "
   ]
  },
  {
   "cell_type": "code",
   "execution_count": 4,
   "id": "264ce536",
   "metadata": {},
   "outputs": [
    {
     "data": {
      "text/plain": [
       "PassengerId       0\n",
       "HomePlanet      201\n",
       "CryoSleep       217\n",
       "Cabin           199\n",
       "Destination     182\n",
       "Age             179\n",
       "VIP             203\n",
       "RoomService     181\n",
       "FoodCourt       183\n",
       "ShoppingMall    208\n",
       "Spa             183\n",
       "VRDeck          188\n",
       "Name            200\n",
       "Transported       0\n",
       "dtype: int64"
      ]
     },
     "execution_count": 4,
     "metadata": {},
     "output_type": "execute_result"
    }
   ],
   "source": [
    "train_data.isnull().sum()"
   ]
  },
  {
   "cell_type": "markdown",
   "id": "5265ee3c",
   "metadata": {},
   "source": [
    "*Few Findings :*\n",
    "* Every features has null value except for `PassengerId` and `transported`.\n",
    "* We will have to fill these null/missing values.\n",
    "* We also need to fill `CryoSleep` feature first."
   ]
  },
  {
   "cell_type": "markdown",
   "id": "4363bb02",
   "metadata": {},
   "source": [
    "# 4. Data Processing: <a class=\"anchor\" id=\"data_preprocessing\"></a>\n",
    "In this Section:\n",
    "* We will clean our data.\n",
    "* We will fill missing values\n",
    "* We will do feature Engineering."
   ]
  },
  {
   "cell_type": "markdown",
   "id": "8d3ebb81",
   "metadata": {},
   "source": [
    "## 4.1 Imputing Missing Values: <a class=\"anchor\" id=\"data_cleaning\"></a>\n",
    "\n",
    "Let's work on a copy of our dataframe!"
   ]
  },
  {
   "cell_type": "code",
   "execution_count": 5,
   "id": "4e8d23b7",
   "metadata": {},
   "outputs": [
    {
     "data": {
      "text/html": [
       "<div>\n",
       "<style scoped>\n",
       "    .dataframe tbody tr th:only-of-type {\n",
       "        vertical-align: middle;\n",
       "    }\n",
       "\n",
       "    .dataframe tbody tr th {\n",
       "        vertical-align: top;\n",
       "    }\n",
       "\n",
       "    .dataframe thead th {\n",
       "        text-align: right;\n",
       "    }\n",
       "</style>\n",
       "<table border=\"1\" class=\"dataframe\">\n",
       "  <thead>\n",
       "    <tr style=\"text-align: right;\">\n",
       "      <th></th>\n",
       "      <th>PassengerId</th>\n",
       "      <th>HomePlanet</th>\n",
       "      <th>CryoSleep</th>\n",
       "      <th>Cabin</th>\n",
       "      <th>Destination</th>\n",
       "      <th>Age</th>\n",
       "      <th>VIP</th>\n",
       "      <th>RoomService</th>\n",
       "      <th>FoodCourt</th>\n",
       "      <th>ShoppingMall</th>\n",
       "      <th>Spa</th>\n",
       "      <th>VRDeck</th>\n",
       "      <th>Name</th>\n",
       "      <th>Transported</th>\n",
       "    </tr>\n",
       "  </thead>\n",
       "  <tbody>\n",
       "    <tr>\n",
       "      <th>0</th>\n",
       "      <td>0001_01</td>\n",
       "      <td>Europa</td>\n",
       "      <td>False</td>\n",
       "      <td>B/0/P</td>\n",
       "      <td>TRAPPIST-1e</td>\n",
       "      <td>39.0</td>\n",
       "      <td>False</td>\n",
       "      <td>0.0</td>\n",
       "      <td>0.0</td>\n",
       "      <td>0.0</td>\n",
       "      <td>0.0</td>\n",
       "      <td>0.0</td>\n",
       "      <td>Maham Ofracculy</td>\n",
       "      <td>False</td>\n",
       "    </tr>\n",
       "    <tr>\n",
       "      <th>1</th>\n",
       "      <td>0002_01</td>\n",
       "      <td>Earth</td>\n",
       "      <td>False</td>\n",
       "      <td>F/0/S</td>\n",
       "      <td>TRAPPIST-1e</td>\n",
       "      <td>24.0</td>\n",
       "      <td>False</td>\n",
       "      <td>109.0</td>\n",
       "      <td>9.0</td>\n",
       "      <td>25.0</td>\n",
       "      <td>549.0</td>\n",
       "      <td>44.0</td>\n",
       "      <td>Juanna Vines</td>\n",
       "      <td>True</td>\n",
       "    </tr>\n",
       "  </tbody>\n",
       "</table>\n",
       "</div>"
      ],
      "text/plain": [
       "  PassengerId HomePlanet CryoSleep  Cabin  Destination   Age    VIP  \\\n",
       "0     0001_01     Europa     False  B/0/P  TRAPPIST-1e  39.0  False   \n",
       "1     0002_01      Earth     False  F/0/S  TRAPPIST-1e  24.0  False   \n",
       "\n",
       "   RoomService  FoodCourt  ShoppingMall    Spa  VRDeck             Name  \\\n",
       "0          0.0        0.0           0.0    0.0     0.0  Maham Ofracculy   \n",
       "1        109.0        9.0          25.0  549.0    44.0     Juanna Vines   \n",
       "\n",
       "   Transported  \n",
       "0        False  \n",
       "1         True  "
      ]
     },
     "execution_count": 5,
     "metadata": {},
     "output_type": "execute_result"
    }
   ],
   "source": [
    "train_df =  train_data.copy()\n",
    "train_df.head(2)"
   ]
  },
  {
   "cell_type": "markdown",
   "id": "7a7965a8",
   "metadata": {},
   "source": [
    "Now we have to make an `Expenses` feature temporarily because if someone is in `Cryosleep`, they are not spending any money. So, knowing someone's expenses can help us impute values for `CryoSleep`."
   ]
  },
  {
   "cell_type": "code",
   "execution_count": 6,
   "id": "4bd4cb75",
   "metadata": {},
   "outputs": [
    {
     "data": {
      "text/html": [
       "<div>\n",
       "<style scoped>\n",
       "    .dataframe tbody tr th:only-of-type {\n",
       "        vertical-align: middle;\n",
       "    }\n",
       "\n",
       "    .dataframe tbody tr th {\n",
       "        vertical-align: top;\n",
       "    }\n",
       "\n",
       "    .dataframe thead th {\n",
       "        text-align: right;\n",
       "    }\n",
       "</style>\n",
       "<table border=\"1\" class=\"dataframe\">\n",
       "  <thead>\n",
       "    <tr style=\"text-align: right;\">\n",
       "      <th></th>\n",
       "      <th>PassengerId</th>\n",
       "      <th>HomePlanet</th>\n",
       "      <th>CryoSleep</th>\n",
       "      <th>Expenses</th>\n",
       "    </tr>\n",
       "  </thead>\n",
       "  <tbody>\n",
       "    <tr>\n",
       "      <th>0</th>\n",
       "      <td>0001_01</td>\n",
       "      <td>Europa</td>\n",
       "      <td>False</td>\n",
       "      <td>0.0</td>\n",
       "    </tr>\n",
       "    <tr>\n",
       "      <th>1</th>\n",
       "      <td>0002_01</td>\n",
       "      <td>Earth</td>\n",
       "      <td>False</td>\n",
       "      <td>736.0</td>\n",
       "    </tr>\n",
       "    <tr>\n",
       "      <th>2</th>\n",
       "      <td>0003_01</td>\n",
       "      <td>Europa</td>\n",
       "      <td>False</td>\n",
       "      <td>10383.0</td>\n",
       "    </tr>\n",
       "  </tbody>\n",
       "</table>\n",
       "</div>"
      ],
      "text/plain": [
       "  PassengerId HomePlanet CryoSleep  Expenses\n",
       "0     0001_01     Europa     False       0.0\n",
       "1     0002_01      Earth     False     736.0\n",
       "2     0003_01     Europa     False   10383.0"
      ]
     },
     "execution_count": 6,
     "metadata": {},
     "output_type": "execute_result"
    }
   ],
   "source": [
    "train_df['Expenses'] = train_df[['RoomService', 'FoodCourt',\n",
    "                                           'ShoppingMall', 'Spa', 'VRDeck']].sum(axis=1)\n",
    "train_df[[\"PassengerId\",\"HomePlanet\", \"CryoSleep\", \"Expenses\"]].head(3)"
   ]
  },
  {
   "cell_type": "code",
   "execution_count": 7,
   "id": "b10d6d05",
   "metadata": {},
   "outputs": [
    {
     "data": {
      "text/html": [
       "<div>\n",
       "<style scoped>\n",
       "    .dataframe tbody tr th:only-of-type {\n",
       "        vertical-align: middle;\n",
       "    }\n",
       "\n",
       "    .dataframe tbody tr th {\n",
       "        vertical-align: top;\n",
       "    }\n",
       "\n",
       "    .dataframe thead th {\n",
       "        text-align: right;\n",
       "    }\n",
       "</style>\n",
       "<table border=\"1\" class=\"dataframe\">\n",
       "  <thead>\n",
       "    <tr style=\"text-align: right;\">\n",
       "      <th></th>\n",
       "      <th>count</th>\n",
       "      <th>mean</th>\n",
       "      <th>std</th>\n",
       "      <th>min</th>\n",
       "      <th>25%</th>\n",
       "      <th>50%</th>\n",
       "      <th>75%</th>\n",
       "      <th>max</th>\n",
       "    </tr>\n",
       "    <tr>\n",
       "      <th>Age</th>\n",
       "      <th></th>\n",
       "      <th></th>\n",
       "      <th></th>\n",
       "      <th></th>\n",
       "      <th></th>\n",
       "      <th></th>\n",
       "      <th></th>\n",
       "      <th></th>\n",
       "    </tr>\n",
       "  </thead>\n",
       "  <tbody>\n",
       "    <tr>\n",
       "      <th>False</th>\n",
       "      <td>7887.0</td>\n",
       "      <td>1588.113478</td>\n",
       "      <td>2902.797444</td>\n",
       "      <td>0.0</td>\n",
       "      <td>0.0</td>\n",
       "      <td>786.0</td>\n",
       "      <td>1624.0</td>\n",
       "      <td>35987.0</td>\n",
       "    </tr>\n",
       "    <tr>\n",
       "      <th>True</th>\n",
       "      <td>806.0</td>\n",
       "      <td>0.000000</td>\n",
       "      <td>0.000000</td>\n",
       "      <td>0.0</td>\n",
       "      <td>0.0</td>\n",
       "      <td>0.0</td>\n",
       "      <td>0.0</td>\n",
       "      <td>0.0</td>\n",
       "    </tr>\n",
       "  </tbody>\n",
       "</table>\n",
       "</div>"
      ],
      "text/plain": [
       "        count         mean          std  min  25%    50%     75%      max\n",
       "Age                                                                      \n",
       "False  7887.0  1588.113478  2902.797444  0.0  0.0  786.0  1624.0  35987.0\n",
       "True    806.0     0.000000     0.000000  0.0  0.0    0.0     0.0      0.0"
      ]
     },
     "execution_count": 7,
     "metadata": {},
     "output_type": "execute_result"
    }
   ],
   "source": [
    "train_df['Expenses'].groupby(train_df['Age'] < 13).describe()"
   ]
  },
  {
   "cell_type": "code",
   "execution_count": 8,
   "id": "ac2009d5",
   "metadata": {},
   "outputs": [
    {
     "data": {
      "text/html": [
       "<div>\n",
       "<style scoped>\n",
       "    .dataframe tbody tr th:only-of-type {\n",
       "        vertical-align: middle;\n",
       "    }\n",
       "\n",
       "    .dataframe tbody tr th {\n",
       "        vertical-align: top;\n",
       "    }\n",
       "\n",
       "    .dataframe thead th {\n",
       "        text-align: right;\n",
       "    }\n",
       "</style>\n",
       "<table border=\"1\" class=\"dataframe\">\n",
       "  <thead>\n",
       "    <tr style=\"text-align: right;\">\n",
       "      <th></th>\n",
       "      <th>count</th>\n",
       "      <th>mean</th>\n",
       "      <th>std</th>\n",
       "      <th>min</th>\n",
       "      <th>25%</th>\n",
       "      <th>50%</th>\n",
       "      <th>75%</th>\n",
       "      <th>max</th>\n",
       "    </tr>\n",
       "    <tr>\n",
       "      <th>Age</th>\n",
       "      <th></th>\n",
       "      <th></th>\n",
       "      <th></th>\n",
       "      <th></th>\n",
       "      <th></th>\n",
       "      <th></th>\n",
       "      <th></th>\n",
       "      <th></th>\n",
       "    </tr>\n",
       "  </thead>\n",
       "  <tbody>\n",
       "    <tr>\n",
       "      <th>False</th>\n",
       "      <td>985.0</td>\n",
       "      <td>235.716751</td>\n",
       "      <td>1316.031595</td>\n",
       "      <td>0.0</td>\n",
       "      <td>0.0</td>\n",
       "      <td>0.0</td>\n",
       "      <td>0.0</td>\n",
       "      <td>22261.0</td>\n",
       "    </tr>\n",
       "    <tr>\n",
       "      <th>True</th>\n",
       "      <td>7708.0</td>\n",
       "      <td>1594.871562</td>\n",
       "      <td>2903.579335</td>\n",
       "      <td>0.0</td>\n",
       "      <td>0.0</td>\n",
       "      <td>787.0</td>\n",
       "      <td>1669.0</td>\n",
       "      <td>35987.0</td>\n",
       "    </tr>\n",
       "  </tbody>\n",
       "</table>\n",
       "</div>"
      ],
      "text/plain": [
       "        count         mean          std  min  25%    50%     75%      max\n",
       "Age                                                                      \n",
       "False   985.0   235.716751  1316.031595  0.0  0.0    0.0     0.0  22261.0\n",
       "True   7708.0  1594.871562  2903.579335  0.0  0.0  787.0  1669.0  35987.0"
      ]
     },
     "execution_count": 8,
     "metadata": {},
     "output_type": "execute_result"
    }
   ],
   "source": [
    "train_df['Expenses'].groupby(train_df['Age'] >= 13).describe()"
   ]
  },
  {
   "cell_type": "markdown",
   "id": "eb156670",
   "metadata": {},
   "source": [
    "* Since we can't really guess anyone's age, we'll impute these null values with the median. \n",
    "* An interesting thing I observed is that only people who are 13+ have expenses. I guess the little kids don't get pocket money. Quite unfair."
   ]
  },
  {
   "cell_type": "code",
   "execution_count": 9,
   "id": "2487f1e1",
   "metadata": {},
   "outputs": [],
   "source": [
    "train_df.Age = train_df.Age.fillna(train_df.Age.median())"
   ]
  },
  {
   "cell_type": "code",
   "execution_count": 10,
   "id": "cef0030d",
   "metadata": {},
   "outputs": [
    {
     "data": {
      "text/html": [
       "<div>\n",
       "<style scoped>\n",
       "    .dataframe tbody tr th:only-of-type {\n",
       "        vertical-align: middle;\n",
       "    }\n",
       "\n",
       "    .dataframe tbody tr th {\n",
       "        vertical-align: top;\n",
       "    }\n",
       "\n",
       "    .dataframe thead th {\n",
       "        text-align: right;\n",
       "    }\n",
       "</style>\n",
       "<table border=\"1\" class=\"dataframe\">\n",
       "  <thead>\n",
       "    <tr style=\"text-align: right;\">\n",
       "      <th></th>\n",
       "      <th>PassengerId</th>\n",
       "      <th>Name</th>\n",
       "      <th>HomePlanet</th>\n",
       "      <th>CryoSleep</th>\n",
       "      <th>Age</th>\n",
       "      <th>Expenses</th>\n",
       "    </tr>\n",
       "  </thead>\n",
       "  <tbody>\n",
       "    <tr>\n",
       "      <th>0</th>\n",
       "      <td>0001_01</td>\n",
       "      <td>Maham Ofracculy</td>\n",
       "      <td>Europa</td>\n",
       "      <td>False</td>\n",
       "      <td>39.0</td>\n",
       "      <td>0.0</td>\n",
       "    </tr>\n",
       "    <tr>\n",
       "      <th>1</th>\n",
       "      <td>0002_01</td>\n",
       "      <td>Juanna Vines</td>\n",
       "      <td>Earth</td>\n",
       "      <td>False</td>\n",
       "      <td>24.0</td>\n",
       "      <td>736.0</td>\n",
       "    </tr>\n",
       "    <tr>\n",
       "      <th>2</th>\n",
       "      <td>0003_01</td>\n",
       "      <td>Altark Susent</td>\n",
       "      <td>Europa</td>\n",
       "      <td>False</td>\n",
       "      <td>58.0</td>\n",
       "      <td>10383.0</td>\n",
       "    </tr>\n",
       "    <tr>\n",
       "      <th>3</th>\n",
       "      <td>0003_02</td>\n",
       "      <td>Solam Susent</td>\n",
       "      <td>Europa</td>\n",
       "      <td>False</td>\n",
       "      <td>33.0</td>\n",
       "      <td>5176.0</td>\n",
       "    </tr>\n",
       "    <tr>\n",
       "      <th>4</th>\n",
       "      <td>0004_01</td>\n",
       "      <td>Willy Santantines</td>\n",
       "      <td>Earth</td>\n",
       "      <td>False</td>\n",
       "      <td>16.0</td>\n",
       "      <td>1091.0</td>\n",
       "    </tr>\n",
       "    <tr>\n",
       "      <th>5</th>\n",
       "      <td>0005_01</td>\n",
       "      <td>Sandie Hinetthews</td>\n",
       "      <td>Earth</td>\n",
       "      <td>False</td>\n",
       "      <td>44.0</td>\n",
       "      <td>774.0</td>\n",
       "    </tr>\n",
       "  </tbody>\n",
       "</table>\n",
       "</div>"
      ],
      "text/plain": [
       "  PassengerId               Name HomePlanet CryoSleep   Age  Expenses\n",
       "0     0001_01    Maham Ofracculy     Europa     False  39.0       0.0\n",
       "1     0002_01       Juanna Vines      Earth     False  24.0     736.0\n",
       "2     0003_01      Altark Susent     Europa     False  58.0   10383.0\n",
       "3     0003_02       Solam Susent     Europa     False  33.0    5176.0\n",
       "4     0004_01  Willy Santantines      Earth     False  16.0    1091.0\n",
       "5     0005_01  Sandie Hinetthews      Earth     False  44.0     774.0"
      ]
     },
     "execution_count": 10,
     "metadata": {},
     "output_type": "execute_result"
    }
   ],
   "source": [
    "train_df[[\"PassengerId\",'Name',\"HomePlanet\", \"CryoSleep\",\"Age\", \"Expenses\"]].head(6)"
   ]
  },
  {
   "cell_type": "markdown",
   "id": "97813c64",
   "metadata": {},
   "source": [
    "We can see our newly created feature `Expenses` right after the feature `Age` in a demo presentation of our dataframe above. \n",
    "\n",
    "\n",
    "*Funnily enough, the first person on the dataset, Mr. Maham Ofracculy, didn't spend any money, and they weren't even in `CryoSleep`. Maybe they are broke? In that case I can relate with them.*\n",
    "\n",
    "we're going to make a new column for cryosleep, with all values equal to False (or 0):"
   ]
  },
  {
   "cell_type": "code",
   "execution_count": 11,
   "id": "6bd8e594",
   "metadata": {},
   "outputs": [],
   "source": [
    "train_df['Cryosleep'] = 0"
   ]
  },
  {
   "cell_type": "markdown",
   "id": "9b79c4ed",
   "metadata": {},
   "source": [
    "Now, for every row where Expenses is `0`, we're going to put `1` as the value. Because if someone has not spent any money, they are probably in `CryoSleep`. But don't worry, we'll deal with the exceptions, like *Mr. Maham Ofracculy*, later."
   ]
  },
  {
   "cell_type": "code",
   "execution_count": 12,
   "id": "c1c16917",
   "metadata": {},
   "outputs": [],
   "source": [
    "train_df.loc[train_df['Expenses'] == 0, 'Cryosleep'] = 1"
   ]
  },
  {
   "cell_type": "markdown",
   "id": "c2c7f54f",
   "metadata": {},
   "source": [
    "Now, we are going to set this feature's value to `1` wherever the original `CryoSleep` is equal to `True`."
   ]
  },
  {
   "cell_type": "code",
   "execution_count": 13,
   "id": "6f2f76fa",
   "metadata": {},
   "outputs": [],
   "source": [
    "train_df.loc[train_df.CryoSleep.astype('str') == 'True', 'Cryosleep'] = 1"
   ]
  },
  {
   "cell_type": "markdown",
   "id": "7dd77cd0",
   "metadata": {},
   "source": [
    "Conversely, we will put it to `0 `wherever `CryoSleep` is equal to `False`."
   ]
  },
  {
   "cell_type": "code",
   "execution_count": 14,
   "id": "553e47b4",
   "metadata": {},
   "outputs": [],
   "source": [
    "train_df.loc[train_df.CryoSleep.astype('str') == 'False', 'Cryosleep'] = 0"
   ]
  },
  {
   "cell_type": "markdown",
   "id": "9f5217c2",
   "metadata": {},
   "source": [
    "Let's take a look at this new feature:"
   ]
  },
  {
   "cell_type": "code",
   "execution_count": 15,
   "id": "7cf6a2b5",
   "metadata": {},
   "outputs": [
    {
     "data": {
      "text/html": [
       "<div>\n",
       "<style scoped>\n",
       "    .dataframe tbody tr th:only-of-type {\n",
       "        vertical-align: middle;\n",
       "    }\n",
       "\n",
       "    .dataframe tbody tr th {\n",
       "        vertical-align: top;\n",
       "    }\n",
       "\n",
       "    .dataframe thead th {\n",
       "        text-align: right;\n",
       "    }\n",
       "</style>\n",
       "<table border=\"1\" class=\"dataframe\">\n",
       "  <thead>\n",
       "    <tr style=\"text-align: right;\">\n",
       "      <th></th>\n",
       "      <th>PassengerId</th>\n",
       "      <th>HomePlanet</th>\n",
       "      <th>CryoSleep</th>\n",
       "      <th>Cabin</th>\n",
       "      <th>Destination</th>\n",
       "      <th>Age</th>\n",
       "      <th>VIP</th>\n",
       "      <th>RoomService</th>\n",
       "      <th>FoodCourt</th>\n",
       "      <th>ShoppingMall</th>\n",
       "      <th>Spa</th>\n",
       "      <th>VRDeck</th>\n",
       "      <th>Name</th>\n",
       "      <th>Transported</th>\n",
       "      <th>Expenses</th>\n",
       "      <th>Cryosleep</th>\n",
       "    </tr>\n",
       "  </thead>\n",
       "  <tbody>\n",
       "    <tr>\n",
       "      <th>0</th>\n",
       "      <td>0001_01</td>\n",
       "      <td>Europa</td>\n",
       "      <td>False</td>\n",
       "      <td>B/0/P</td>\n",
       "      <td>TRAPPIST-1e</td>\n",
       "      <td>39.0</td>\n",
       "      <td>False</td>\n",
       "      <td>0.0</td>\n",
       "      <td>0.0</td>\n",
       "      <td>0.0</td>\n",
       "      <td>0.0</td>\n",
       "      <td>0.0</td>\n",
       "      <td>Maham Ofracculy</td>\n",
       "      <td>False</td>\n",
       "      <td>0.0</td>\n",
       "      <td>0</td>\n",
       "    </tr>\n",
       "    <tr>\n",
       "      <th>1</th>\n",
       "      <td>0002_01</td>\n",
       "      <td>Earth</td>\n",
       "      <td>False</td>\n",
       "      <td>F/0/S</td>\n",
       "      <td>TRAPPIST-1e</td>\n",
       "      <td>24.0</td>\n",
       "      <td>False</td>\n",
       "      <td>109.0</td>\n",
       "      <td>9.0</td>\n",
       "      <td>25.0</td>\n",
       "      <td>549.0</td>\n",
       "      <td>44.0</td>\n",
       "      <td>Juanna Vines</td>\n",
       "      <td>True</td>\n",
       "      <td>736.0</td>\n",
       "      <td>0</td>\n",
       "    </tr>\n",
       "    <tr>\n",
       "      <th>2</th>\n",
       "      <td>0003_01</td>\n",
       "      <td>Europa</td>\n",
       "      <td>False</td>\n",
       "      <td>A/0/S</td>\n",
       "      <td>TRAPPIST-1e</td>\n",
       "      <td>58.0</td>\n",
       "      <td>True</td>\n",
       "      <td>43.0</td>\n",
       "      <td>3576.0</td>\n",
       "      <td>0.0</td>\n",
       "      <td>6715.0</td>\n",
       "      <td>49.0</td>\n",
       "      <td>Altark Susent</td>\n",
       "      <td>False</td>\n",
       "      <td>10383.0</td>\n",
       "      <td>0</td>\n",
       "    </tr>\n",
       "    <tr>\n",
       "      <th>3</th>\n",
       "      <td>0003_02</td>\n",
       "      <td>Europa</td>\n",
       "      <td>False</td>\n",
       "      <td>A/0/S</td>\n",
       "      <td>TRAPPIST-1e</td>\n",
       "      <td>33.0</td>\n",
       "      <td>False</td>\n",
       "      <td>0.0</td>\n",
       "      <td>1283.0</td>\n",
       "      <td>371.0</td>\n",
       "      <td>3329.0</td>\n",
       "      <td>193.0</td>\n",
       "      <td>Solam Susent</td>\n",
       "      <td>False</td>\n",
       "      <td>5176.0</td>\n",
       "      <td>0</td>\n",
       "    </tr>\n",
       "    <tr>\n",
       "      <th>4</th>\n",
       "      <td>0004_01</td>\n",
       "      <td>Earth</td>\n",
       "      <td>False</td>\n",
       "      <td>F/1/S</td>\n",
       "      <td>TRAPPIST-1e</td>\n",
       "      <td>16.0</td>\n",
       "      <td>False</td>\n",
       "      <td>303.0</td>\n",
       "      <td>70.0</td>\n",
       "      <td>151.0</td>\n",
       "      <td>565.0</td>\n",
       "      <td>2.0</td>\n",
       "      <td>Willy Santantines</td>\n",
       "      <td>True</td>\n",
       "      <td>1091.0</td>\n",
       "      <td>0</td>\n",
       "    </tr>\n",
       "  </tbody>\n",
       "</table>\n",
       "</div>"
      ],
      "text/plain": [
       "  PassengerId HomePlanet CryoSleep  Cabin  Destination   Age    VIP  \\\n",
       "0     0001_01     Europa     False  B/0/P  TRAPPIST-1e  39.0  False   \n",
       "1     0002_01      Earth     False  F/0/S  TRAPPIST-1e  24.0  False   \n",
       "2     0003_01     Europa     False  A/0/S  TRAPPIST-1e  58.0   True   \n",
       "3     0003_02     Europa     False  A/0/S  TRAPPIST-1e  33.0  False   \n",
       "4     0004_01      Earth     False  F/1/S  TRAPPIST-1e  16.0  False   \n",
       "\n",
       "   RoomService  FoodCourt  ShoppingMall     Spa  VRDeck               Name  \\\n",
       "0          0.0        0.0           0.0     0.0     0.0    Maham Ofracculy   \n",
       "1        109.0        9.0          25.0   549.0    44.0       Juanna Vines   \n",
       "2         43.0     3576.0           0.0  6715.0    49.0      Altark Susent   \n",
       "3          0.0     1283.0         371.0  3329.0   193.0       Solam Susent   \n",
       "4        303.0       70.0         151.0   565.0     2.0  Willy Santantines   \n",
       "\n",
       "   Transported  Expenses  Cryosleep  \n",
       "0        False       0.0          0  \n",
       "1         True     736.0          0  \n",
       "2        False   10383.0          0  \n",
       "3        False    5176.0          0  \n",
       "4         True    1091.0          0  "
      ]
     },
     "execution_count": 15,
     "metadata": {},
     "output_type": "execute_result"
    }
   ],
   "source": [
    "train_df.head()"
   ]
  },
  {
   "cell_type": "markdown",
   "id": "2b7b9611",
   "metadata": {},
   "source": [
    "*What we have just completed:*\n",
    "\n",
    "* First, we created a new feature `Cryosleep` and  set all its value to `False` = `0`.\n",
    "* Next, we set `Cryosleep` as `True` = `1` for everyone whose expenses is 0.\n",
    "* Finally, we used the original `CryoSleep` feature, to correct `CryoSleep` status for the people who haven't spent any money, but aren't in `cryosleep`. Just in case our last step incorrectly classified them as being in `cryosleep`.\n",
    "\n",
    "Logical, right?\n",
    "\n",
    "Now, let's just replace the original column with this one. There's probably a better way of doing this than how I did it here here:"
   ]
  },
  {
   "cell_type": "code",
   "execution_count": 16,
   "id": "c824c8cb",
   "metadata": {},
   "outputs": [],
   "source": [
    "train_df['Cryosleep'] = train_df['Cryosleep'].astype('bool')\n",
    "train_df['CryoSleep'] = train_df['Cryosleep']\n",
    "train_df.drop('Cryosleep',axis=1,inplace=True)"
   ]
  },
  {
   "cell_type": "code",
   "execution_count": 17,
   "id": "70b6950c",
   "metadata": {},
   "outputs": [
    {
     "data": {
      "text/html": [
       "<div>\n",
       "<style scoped>\n",
       "    .dataframe tbody tr th:only-of-type {\n",
       "        vertical-align: middle;\n",
       "    }\n",
       "\n",
       "    .dataframe tbody tr th {\n",
       "        vertical-align: top;\n",
       "    }\n",
       "\n",
       "    .dataframe thead th {\n",
       "        text-align: right;\n",
       "    }\n",
       "</style>\n",
       "<table border=\"1\" class=\"dataframe\">\n",
       "  <thead>\n",
       "    <tr style=\"text-align: right;\">\n",
       "      <th></th>\n",
       "      <th>PassengerId</th>\n",
       "      <th>Name</th>\n",
       "      <th>HomePlanet</th>\n",
       "      <th>CryoSleep</th>\n",
       "      <th>Age</th>\n",
       "      <th>Expenses</th>\n",
       "    </tr>\n",
       "  </thead>\n",
       "  <tbody>\n",
       "    <tr>\n",
       "      <th>4147</th>\n",
       "      <td>4430_01</td>\n",
       "      <td>Ireen Robins</td>\n",
       "      <td>Earth</td>\n",
       "      <td>False</td>\n",
       "      <td>18.0</td>\n",
       "      <td>1515.0</td>\n",
       "    </tr>\n",
       "    <tr>\n",
       "      <th>2610</th>\n",
       "      <td>2795_01</td>\n",
       "      <td>Genons Brantcable</td>\n",
       "      <td>Europa</td>\n",
       "      <td>False</td>\n",
       "      <td>34.0</td>\n",
       "      <td>5687.0</td>\n",
       "    </tr>\n",
       "    <tr>\n",
       "      <th>4034</th>\n",
       "      <td>4309_01</td>\n",
       "      <td>Coracy Whitledges</td>\n",
       "      <td>Earth</td>\n",
       "      <td>False</td>\n",
       "      <td>37.0</td>\n",
       "      <td>788.0</td>\n",
       "    </tr>\n",
       "    <tr>\n",
       "      <th>2613</th>\n",
       "      <td>2797_01</td>\n",
       "      <td>Violan Burchanez</td>\n",
       "      <td>Earth</td>\n",
       "      <td>False</td>\n",
       "      <td>22.0</td>\n",
       "      <td>1345.0</td>\n",
       "    </tr>\n",
       "    <tr>\n",
       "      <th>3305</th>\n",
       "      <td>3550_03</td>\n",
       "      <td>Celina Carvis</td>\n",
       "      <td>Earth</td>\n",
       "      <td>True</td>\n",
       "      <td>21.0</td>\n",
       "      <td>0.0</td>\n",
       "    </tr>\n",
       "    <tr>\n",
       "      <th>6072</th>\n",
       "      <td>6419_01</td>\n",
       "      <td>Estina Holcompson</td>\n",
       "      <td>Earth</td>\n",
       "      <td>False</td>\n",
       "      <td>31.0</td>\n",
       "      <td>873.0</td>\n",
       "    </tr>\n",
       "  </tbody>\n",
       "</table>\n",
       "</div>"
      ],
      "text/plain": [
       "     PassengerId               Name HomePlanet  CryoSleep   Age  Expenses\n",
       "4147     4430_01       Ireen Robins      Earth      False  18.0    1515.0\n",
       "2610     2795_01  Genons Brantcable     Europa      False  34.0    5687.0\n",
       "4034     4309_01  Coracy Whitledges      Earth      False  37.0     788.0\n",
       "2613     2797_01   Violan Burchanez      Earth      False  22.0    1345.0\n",
       "3305     3550_03      Celina Carvis      Earth       True  21.0       0.0\n",
       "6072     6419_01  Estina Holcompson      Earth      False  31.0     873.0"
      ]
     },
     "execution_count": 17,
     "metadata": {},
     "output_type": "execute_result"
    }
   ],
   "source": [
    "train_df[[\"PassengerId\",'Name',\"HomePlanet\", \"CryoSleep\",\"Age\", \"Expenses\"]].sample(6)"
   ]
  },
  {
   "cell_type": "markdown",
   "id": "78b7f956",
   "metadata": {},
   "source": [
    "*What we have just completed*\n",
    "\n",
    "* We have now replaced the values of our original `CryoSleep` column, that had missing values, with the values of our newly created `Cryosleep` column which doesn't have any null values. Then we dropped our new column.\n",
    "\n",
    "* Our new column also states accurately that *Mr. Maham Ofracculy* is not in `cryosleep`, and he still hasn't spent any money on amenities, i.e., `RoomService`,`FoodCourt`,`ShoppingMall`,`Spa` and `VRDeck`.\n",
    "\n",
    "The new feature shouldn't have any null values now. Let's check just in case"
   ]
  },
  {
   "cell_type": "code",
   "execution_count": 18,
   "id": "1f533fa2",
   "metadata": {},
   "outputs": [
    {
     "data": {
      "text/plain": [
       "False"
      ]
     },
     "execution_count": 18,
     "metadata": {},
     "output_type": "execute_result"
    }
   ],
   "source": [
    "train_df.CryoSleep.isnull().any()"
   ]
  },
  {
   "cell_type": "markdown",
   "id": "b6833d25",
   "metadata": {},
   "source": [
    "Since the only important person in this dataset is *Mr. Maham Ofracculy*, we don't need the names column.\n"
   ]
  },
  {
   "cell_type": "code",
   "execution_count": 19,
   "id": "3b89d36d",
   "metadata": {},
   "outputs": [],
   "source": [
    "train_df.drop('Name',axis=1,inplace=True)"
   ]
  },
  {
   "cell_type": "markdown",
   "id": "20ad6ff5",
   "metadata": {},
   "source": [
    "Now for the amenities, we can easily impute null values for `Cryosleep` == `True`, since we know they are going to be zero as the person is in `CryoSleep`."
   ]
  },
  {
   "cell_type": "code",
   "execution_count": 20,
   "id": "132a889c",
   "metadata": {},
   "outputs": [
    {
     "data": {
      "text/plain": [
       "RoomService     0\n",
       "FoodCourt       0\n",
       "ShoppingMall    0\n",
       "Spa             0\n",
       "VRDeck          0\n",
       "dtype: int64"
      ]
     },
     "execution_count": 20,
     "metadata": {},
     "output_type": "execute_result"
    }
   ],
   "source": [
    "train_df.loc[train_df.CryoSleep == True,['RoomService', 'FoodCourt','ShoppingMall', 'Spa', 'VRDeck']] = 0\n",
    "train_df.loc[train_df.CryoSleep == True,['RoomService', 'FoodCourt','ShoppingMall', 'Spa', 'VRDeck']].isna().sum()"
   ]
  },
  {
   "cell_type": "markdown",
   "id": "41356a1c",
   "metadata": {},
   "source": [
    "Before dealing with the rest of the amenities' values, let's make some more new features to aid us."
   ]
  },
  {
   "cell_type": "code",
   "execution_count": 21,
   "id": "fc898134",
   "metadata": {},
   "outputs": [],
   "source": [
    "train_df['Adults'] = train_df['Age'] >= 13"
   ]
  },
  {
   "cell_type": "markdown",
   "id": "14db0eca",
   "metadata": {},
   "source": [
    "*We know that 13 year olds aren't adults, But in this case, we are dividing it in terms of the `Expenses` because they are able to spend money at this age.*\n",
    "\n",
    "Now, let's make a column now that tells us if someone is 13+ and is spending money."
   ]
  },
  {
   "cell_type": "code",
   "execution_count": 22,
   "id": "44d0a226",
   "metadata": {},
   "outputs": [],
   "source": [
    "train_df['Adult_and_spending'] = (train_df['Expenses'] > 0) & (train_df['Age'] >=13)"
   ]
  },
  {
   "cell_type": "markdown",
   "id": "464f2298",
   "metadata": {},
   "source": [
    "Let's take a look at the rows that are `True` for our new Adult_and_spending feature:"
   ]
  },
  {
   "cell_type": "code",
   "execution_count": 23,
   "id": "28abe392",
   "metadata": {},
   "outputs": [
    {
     "data": {
      "text/html": [
       "<div>\n",
       "<style scoped>\n",
       "    .dataframe tbody tr th:only-of-type {\n",
       "        vertical-align: middle;\n",
       "    }\n",
       "\n",
       "    .dataframe tbody tr th {\n",
       "        vertical-align: top;\n",
       "    }\n",
       "\n",
       "    .dataframe thead th {\n",
       "        text-align: right;\n",
       "    }\n",
       "</style>\n",
       "<table border=\"1\" class=\"dataframe\">\n",
       "  <thead>\n",
       "    <tr style=\"text-align: right;\">\n",
       "      <th></th>\n",
       "      <th>PassengerId</th>\n",
       "      <th>HomePlanet</th>\n",
       "      <th>CryoSleep</th>\n",
       "      <th>Cabin</th>\n",
       "      <th>Destination</th>\n",
       "      <th>Age</th>\n",
       "      <th>VIP</th>\n",
       "      <th>RoomService</th>\n",
       "      <th>FoodCourt</th>\n",
       "      <th>ShoppingMall</th>\n",
       "      <th>Spa</th>\n",
       "      <th>VRDeck</th>\n",
       "      <th>Transported</th>\n",
       "      <th>Expenses</th>\n",
       "      <th>Adults</th>\n",
       "      <th>Adult_and_spending</th>\n",
       "    </tr>\n",
       "  </thead>\n",
       "  <tbody>\n",
       "    <tr>\n",
       "      <th>1</th>\n",
       "      <td>0002_01</td>\n",
       "      <td>Earth</td>\n",
       "      <td>False</td>\n",
       "      <td>F/0/S</td>\n",
       "      <td>TRAPPIST-1e</td>\n",
       "      <td>24.0</td>\n",
       "      <td>False</td>\n",
       "      <td>109.0</td>\n",
       "      <td>9.0</td>\n",
       "      <td>25.0</td>\n",
       "      <td>549.0</td>\n",
       "      <td>44.0</td>\n",
       "      <td>True</td>\n",
       "      <td>736.0</td>\n",
       "      <td>True</td>\n",
       "      <td>True</td>\n",
       "    </tr>\n",
       "    <tr>\n",
       "      <th>2</th>\n",
       "      <td>0003_01</td>\n",
       "      <td>Europa</td>\n",
       "      <td>False</td>\n",
       "      <td>A/0/S</td>\n",
       "      <td>TRAPPIST-1e</td>\n",
       "      <td>58.0</td>\n",
       "      <td>True</td>\n",
       "      <td>43.0</td>\n",
       "      <td>3576.0</td>\n",
       "      <td>0.0</td>\n",
       "      <td>6715.0</td>\n",
       "      <td>49.0</td>\n",
       "      <td>False</td>\n",
       "      <td>10383.0</td>\n",
       "      <td>True</td>\n",
       "      <td>True</td>\n",
       "    </tr>\n",
       "    <tr>\n",
       "      <th>3</th>\n",
       "      <td>0003_02</td>\n",
       "      <td>Europa</td>\n",
       "      <td>False</td>\n",
       "      <td>A/0/S</td>\n",
       "      <td>TRAPPIST-1e</td>\n",
       "      <td>33.0</td>\n",
       "      <td>False</td>\n",
       "      <td>0.0</td>\n",
       "      <td>1283.0</td>\n",
       "      <td>371.0</td>\n",
       "      <td>3329.0</td>\n",
       "      <td>193.0</td>\n",
       "      <td>False</td>\n",
       "      <td>5176.0</td>\n",
       "      <td>True</td>\n",
       "      <td>True</td>\n",
       "    </tr>\n",
       "    <tr>\n",
       "      <th>4</th>\n",
       "      <td>0004_01</td>\n",
       "      <td>Earth</td>\n",
       "      <td>False</td>\n",
       "      <td>F/1/S</td>\n",
       "      <td>TRAPPIST-1e</td>\n",
       "      <td>16.0</td>\n",
       "      <td>False</td>\n",
       "      <td>303.0</td>\n",
       "      <td>70.0</td>\n",
       "      <td>151.0</td>\n",
       "      <td>565.0</td>\n",
       "      <td>2.0</td>\n",
       "      <td>True</td>\n",
       "      <td>1091.0</td>\n",
       "      <td>True</td>\n",
       "      <td>True</td>\n",
       "    </tr>\n",
       "    <tr>\n",
       "      <th>5</th>\n",
       "      <td>0005_01</td>\n",
       "      <td>Earth</td>\n",
       "      <td>False</td>\n",
       "      <td>F/0/P</td>\n",
       "      <td>PSO J318.5-22</td>\n",
       "      <td>44.0</td>\n",
       "      <td>False</td>\n",
       "      <td>0.0</td>\n",
       "      <td>483.0</td>\n",
       "      <td>0.0</td>\n",
       "      <td>291.0</td>\n",
       "      <td>0.0</td>\n",
       "      <td>True</td>\n",
       "      <td>774.0</td>\n",
       "      <td>True</td>\n",
       "      <td>True</td>\n",
       "    </tr>\n",
       "    <tr>\n",
       "      <th>...</th>\n",
       "      <td>...</td>\n",
       "      <td>...</td>\n",
       "      <td>...</td>\n",
       "      <td>...</td>\n",
       "      <td>...</td>\n",
       "      <td>...</td>\n",
       "      <td>...</td>\n",
       "      <td>...</td>\n",
       "      <td>...</td>\n",
       "      <td>...</td>\n",
       "      <td>...</td>\n",
       "      <td>...</td>\n",
       "      <td>...</td>\n",
       "      <td>...</td>\n",
       "      <td>...</td>\n",
       "      <td>...</td>\n",
       "    </tr>\n",
       "    <tr>\n",
       "      <th>8687</th>\n",
       "      <td>9275_03</td>\n",
       "      <td>Europa</td>\n",
       "      <td>False</td>\n",
       "      <td>A/97/P</td>\n",
       "      <td>TRAPPIST-1e</td>\n",
       "      <td>30.0</td>\n",
       "      <td>False</td>\n",
       "      <td>0.0</td>\n",
       "      <td>3208.0</td>\n",
       "      <td>0.0</td>\n",
       "      <td>2.0</td>\n",
       "      <td>330.0</td>\n",
       "      <td>True</td>\n",
       "      <td>3540.0</td>\n",
       "      <td>True</td>\n",
       "      <td>True</td>\n",
       "    </tr>\n",
       "    <tr>\n",
       "      <th>8688</th>\n",
       "      <td>9276_01</td>\n",
       "      <td>Europa</td>\n",
       "      <td>False</td>\n",
       "      <td>A/98/P</td>\n",
       "      <td>55 Cancri e</td>\n",
       "      <td>41.0</td>\n",
       "      <td>True</td>\n",
       "      <td>0.0</td>\n",
       "      <td>6819.0</td>\n",
       "      <td>0.0</td>\n",
       "      <td>1643.0</td>\n",
       "      <td>74.0</td>\n",
       "      <td>False</td>\n",
       "      <td>8536.0</td>\n",
       "      <td>True</td>\n",
       "      <td>True</td>\n",
       "    </tr>\n",
       "    <tr>\n",
       "      <th>8690</th>\n",
       "      <td>9279_01</td>\n",
       "      <td>Earth</td>\n",
       "      <td>False</td>\n",
       "      <td>G/1500/S</td>\n",
       "      <td>TRAPPIST-1e</td>\n",
       "      <td>26.0</td>\n",
       "      <td>False</td>\n",
       "      <td>0.0</td>\n",
       "      <td>0.0</td>\n",
       "      <td>1872.0</td>\n",
       "      <td>1.0</td>\n",
       "      <td>0.0</td>\n",
       "      <td>True</td>\n",
       "      <td>1873.0</td>\n",
       "      <td>True</td>\n",
       "      <td>True</td>\n",
       "    </tr>\n",
       "    <tr>\n",
       "      <th>8691</th>\n",
       "      <td>9280_01</td>\n",
       "      <td>Europa</td>\n",
       "      <td>False</td>\n",
       "      <td>E/608/S</td>\n",
       "      <td>55 Cancri e</td>\n",
       "      <td>32.0</td>\n",
       "      <td>False</td>\n",
       "      <td>0.0</td>\n",
       "      <td>1049.0</td>\n",
       "      <td>0.0</td>\n",
       "      <td>353.0</td>\n",
       "      <td>3235.0</td>\n",
       "      <td>False</td>\n",
       "      <td>4637.0</td>\n",
       "      <td>True</td>\n",
       "      <td>True</td>\n",
       "    </tr>\n",
       "    <tr>\n",
       "      <th>8692</th>\n",
       "      <td>9280_02</td>\n",
       "      <td>Europa</td>\n",
       "      <td>False</td>\n",
       "      <td>E/608/S</td>\n",
       "      <td>TRAPPIST-1e</td>\n",
       "      <td>44.0</td>\n",
       "      <td>False</td>\n",
       "      <td>126.0</td>\n",
       "      <td>4688.0</td>\n",
       "      <td>0.0</td>\n",
       "      <td>0.0</td>\n",
       "      <td>12.0</td>\n",
       "      <td>True</td>\n",
       "      <td>4826.0</td>\n",
       "      <td>True</td>\n",
       "      <td>True</td>\n",
       "    </tr>\n",
       "  </tbody>\n",
       "</table>\n",
       "<p>5040 rows × 16 columns</p>\n",
       "</div>"
      ],
      "text/plain": [
       "     PassengerId HomePlanet  CryoSleep     Cabin    Destination   Age    VIP  \\\n",
       "1        0002_01      Earth      False     F/0/S    TRAPPIST-1e  24.0  False   \n",
       "2        0003_01     Europa      False     A/0/S    TRAPPIST-1e  58.0   True   \n",
       "3        0003_02     Europa      False     A/0/S    TRAPPIST-1e  33.0  False   \n",
       "4        0004_01      Earth      False     F/1/S    TRAPPIST-1e  16.0  False   \n",
       "5        0005_01      Earth      False     F/0/P  PSO J318.5-22  44.0  False   \n",
       "...          ...        ...        ...       ...            ...   ...    ...   \n",
       "8687     9275_03     Europa      False    A/97/P    TRAPPIST-1e  30.0  False   \n",
       "8688     9276_01     Europa      False    A/98/P    55 Cancri e  41.0   True   \n",
       "8690     9279_01      Earth      False  G/1500/S    TRAPPIST-1e  26.0  False   \n",
       "8691     9280_01     Europa      False   E/608/S    55 Cancri e  32.0  False   \n",
       "8692     9280_02     Europa      False   E/608/S    TRAPPIST-1e  44.0  False   \n",
       "\n",
       "      RoomService  FoodCourt  ShoppingMall     Spa  VRDeck  Transported  \\\n",
       "1           109.0        9.0          25.0   549.0    44.0         True   \n",
       "2            43.0     3576.0           0.0  6715.0    49.0        False   \n",
       "3             0.0     1283.0         371.0  3329.0   193.0        False   \n",
       "4           303.0       70.0         151.0   565.0     2.0         True   \n",
       "5             0.0      483.0           0.0   291.0     0.0         True   \n",
       "...           ...        ...           ...     ...     ...          ...   \n",
       "8687          0.0     3208.0           0.0     2.0   330.0         True   \n",
       "8688          0.0     6819.0           0.0  1643.0    74.0        False   \n",
       "8690          0.0        0.0        1872.0     1.0     0.0         True   \n",
       "8691          0.0     1049.0           0.0   353.0  3235.0        False   \n",
       "8692        126.0     4688.0           0.0     0.0    12.0         True   \n",
       "\n",
       "      Expenses  Adults  Adult_and_spending  \n",
       "1        736.0    True                True  \n",
       "2      10383.0    True                True  \n",
       "3       5176.0    True                True  \n",
       "4       1091.0    True                True  \n",
       "5        774.0    True                True  \n",
       "...        ...     ...                 ...  \n",
       "8687    3540.0    True                True  \n",
       "8688    8536.0    True                True  \n",
       "8690    1873.0    True                True  \n",
       "8691    4637.0    True                True  \n",
       "8692    4826.0    True                True  \n",
       "\n",
       "[5040 rows x 16 columns]"
      ]
     },
     "execution_count": 23,
     "metadata": {},
     "output_type": "execute_result"
    }
   ],
   "source": [
    "train_df.loc[train_df.Adult_and_spending == True]"
   ]
  },
  {
   "cell_type": "markdown",
   "id": "7ccd8c9a",
   "metadata": {},
   "source": [
    "So there are 5040 people who are 13+ and are spending money.\n",
    "\n",
    "*What will we do next:*\n",
    "\n",
    "* Now we are going to impute the values for our amenities.\n",
    "\n",
    "* We know if someone is not an adult and has `zero` expenses, they are either below `13`, which means they definitely haven't spent on any amenities, or they are in `CryoSleep`, which again means they definitely haven't spent on amenities.\n",
    "\n",
    "* So, wherever we have `Adult_and_spending` == `False`, we'll impute them with `0`"
   ]
  },
  {
   "cell_type": "code",
   "execution_count": 24,
   "id": "547c3b9c",
   "metadata": {},
   "outputs": [],
   "source": [
    "#Imputing missing values for RoomService feature where Adult_and_spending == False\n",
    "train_df.RoomService = train_df.RoomService.fillna(train_df.RoomService.mean())\n",
    "train_df.loc[train_df.Adult_and_spending ==False, 'RoomService'] = 0\n",
    "\n",
    "#Imputing missing values for FoodCourt feature where Adult_and_spending == False\n",
    "train_df.FoodCourt = train_df.FoodCourt.fillna(train_df.FoodCourt.mean())\n",
    "train_df.loc[train_df.Adult_and_spending ==False, 'FoodCourt'] = 0\n",
    "\n",
    "#Imputing missing values for ShoppingMall feature where Adult_and_spending == False\n",
    "train_df.ShoppingMall = train_df.ShoppingMall.fillna(train_df.ShoppingMall.mean())\n",
    "train_df.loc[train_df.Adult_and_spending ==False, 'ShoppingMall'] = 0\n",
    "\n",
    "#Imputing missing values for Spa feature where Adult_and_spending == False\n",
    "train_df.Spa = train_df.Spa.fillna(train_df.Spa.mean())\n",
    "train_df.loc[train_df.Adult_and_spending ==False, 'Spa'] = 0\n",
    "\n",
    "#Imputing missing values for VRDeck feature where Adult_and_spending == False\n",
    "train_df.VRDeck = train_df.VRDeck.fillna(train_df.VRDeck.mean())\n",
    "train_df.loc[train_df.Adult_and_spending ==False, 'VRDeck'] = 0"
   ]
  },
  {
   "cell_type": "markdown",
   "id": "b500a102",
   "metadata": {},
   "source": [
    "Neat! Now we are done with imputing these columns as well.\n",
    "\n",
    "Let's take a look:"
   ]
  },
  {
   "cell_type": "code",
   "execution_count": 25,
   "id": "4be2f88e",
   "metadata": {},
   "outputs": [
    {
     "data": {
      "text/plain": [
       "RoomService     0\n",
       "FoodCourt       0\n",
       "ShoppingMall    0\n",
       "Spa             0\n",
       "VRDeck          0\n",
       "dtype: int64"
      ]
     },
     "execution_count": 25,
     "metadata": {},
     "output_type": "execute_result"
    }
   ],
   "source": [
    "train_df[['RoomService', 'FoodCourt','ShoppingMall', 'Spa', 'VRDeck']].isna().sum()"
   ]
  },
  {
   "cell_type": "markdown",
   "id": "90217569",
   "metadata": {},
   "source": [
    "Great!\n",
    "\n",
    "For the remaining columns, we can't figure out what values to fill in this manner. So we are just going to fill them with the values that the majority of people have in the dataset, i.e., the mode."
   ]
  },
  {
   "cell_type": "code",
   "execution_count": 26,
   "id": "4acdc888",
   "metadata": {},
   "outputs": [
    {
     "data": {
      "text/plain": [
       "0    Earth\n",
       "dtype: object"
      ]
     },
     "execution_count": 26,
     "metadata": {},
     "output_type": "execute_result"
    }
   ],
   "source": [
    "train_df.HomePlanet.mode()"
   ]
  },
  {
   "cell_type": "code",
   "execution_count": 27,
   "id": "ae556bd7",
   "metadata": {},
   "outputs": [
    {
     "data": {
      "text/plain": [
       "0    TRAPPIST-1e\n",
       "dtype: object"
      ]
     },
     "execution_count": 27,
     "metadata": {},
     "output_type": "execute_result"
    }
   ],
   "source": [
    "train_df.Destination.mode()"
   ]
  },
  {
   "cell_type": "code",
   "execution_count": 28,
   "id": "87f32465",
   "metadata": {},
   "outputs": [
    {
     "data": {
      "text/plain": [
       "0    False\n",
       "dtype: object"
      ]
     },
     "execution_count": 28,
     "metadata": {},
     "output_type": "execute_result"
    }
   ],
   "source": [
    "train_df.VIP.mode()"
   ]
  },
  {
   "cell_type": "markdown",
   "id": "393e1fea",
   "metadata": {},
   "source": [
    "So, these are the values we will be imputing with."
   ]
  },
  {
   "cell_type": "code",
   "execution_count": 29,
   "id": "ffcf0c4d",
   "metadata": {},
   "outputs": [],
   "source": [
    "train_df.HomePlanet = train_df.HomePlanet.fillna('Earth')\n",
    "train_df.Destination = train_df.Destination.fillna('TRAPPIST-1e')\n",
    "train_df.VIP = train_df.VIP.fillna('False')\n",
    "train_df.VIP = train_df.VIP.astype('bool')"
   ]
  },
  {
   "cell_type": "markdown",
   "id": "8422a10e",
   "metadata": {},
   "source": [
    "Let's see how much we are completed imputing null values:"
   ]
  },
  {
   "cell_type": "code",
   "execution_count": 30,
   "id": "bab4d536",
   "metadata": {},
   "outputs": [
    {
     "data": {
      "text/plain": [
       "PassengerId             0\n",
       "HomePlanet              0\n",
       "CryoSleep               0\n",
       "Cabin                 199\n",
       "Destination             0\n",
       "Age                     0\n",
       "VIP                     0\n",
       "RoomService             0\n",
       "FoodCourt               0\n",
       "ShoppingMall            0\n",
       "Spa                     0\n",
       "VRDeck                  0\n",
       "Transported             0\n",
       "Expenses                0\n",
       "Adults                  0\n",
       "Adult_and_spending      0\n",
       "dtype: int64"
      ]
     },
     "execution_count": 30,
     "metadata": {},
     "output_type": "execute_result"
    }
   ],
   "source": [
    "train_df.isnull().sum()"
   ]
  },
  {
   "cell_type": "markdown",
   "id": "d14b461a",
   "metadata": {},
   "source": [
    "The cabin is the only column that remains with null values!\n",
    "\n",
    "Filling this is not easy due to my limited skill. I am just going to use `ffill` to fill these null values. What that does is basically use the previous value to impute the missing one.\n",
    "\n",
    "So, for example, if we have a dataset like:\n",
    "\n",
    "    [5, 8, 15, null, 19]\n",
    "\n",
    "If we use fill on this, it'll become:\n",
    "\n",
    "    [5, 8, 15, 15, 19]"
   ]
  },
  {
   "cell_type": "code",
   "execution_count": 31,
   "id": "cad233a7",
   "metadata": {},
   "outputs": [],
   "source": [
    "train_df['Cabin'] = train_df.Cabin.fillna(method='ffill')"
   ]
  },
  {
   "cell_type": "code",
   "execution_count": 32,
   "id": "c6e05e16",
   "metadata": {},
   "outputs": [
    {
     "data": {
      "text/plain": [
       "PassengerId           0\n",
       "HomePlanet            0\n",
       "CryoSleep             0\n",
       "Cabin                 0\n",
       "Destination           0\n",
       "Age                   0\n",
       "VIP                   0\n",
       "RoomService           0\n",
       "FoodCourt             0\n",
       "ShoppingMall          0\n",
       "Spa                   0\n",
       "VRDeck                0\n",
       "Transported           0\n",
       "Expenses              0\n",
       "Adults                0\n",
       "Adult_and_spending    0\n",
       "dtype: int64"
      ]
     },
     "execution_count": 32,
     "metadata": {},
     "output_type": "execute_result"
    }
   ],
   "source": [
    "train_df.isnull().sum()"
   ]
  },
  {
   "cell_type": "markdown",
   "id": "db6d203c",
   "metadata": {},
   "source": [
    "And so, we are done with imputing. Time to move on to feature engineering."
   ]
  },
  {
   "cell_type": "markdown",
   "id": "f21cc75e",
   "metadata": {},
   "source": [
    "## 4.2 Feature Engineering <a class=\"anchor\" id=\"feature_engineering\"></a>"
   ]
  },
  {
   "cell_type": "markdown",
   "id": "b0bf4af8",
   "metadata": {},
   "source": [
    "These are the features that I am going to add to this dataset."
   ]
  },
  {
   "cell_type": "code",
   "execution_count": 33,
   "id": "9bd7d130",
   "metadata": {},
   "outputs": [],
   "source": [
    "train_df['Group_nums'] = train_df.PassengerId.apply(lambda x: x.split('_')).apply(lambda x: x[0])\n",
    "train_df['Grouped'] = ((train_df['Group_nums'].value_counts() > 1).reindex(train_df['Group_nums'])).tolist()\n",
    "train_df['Deck'] = train_df.Cabin.apply(lambda x: str(x).split('/')).apply(lambda x: x[0])\n",
    "train_df['Side'] = train_df.Cabin.apply(lambda x: str(x).split('/')).apply(lambda x: x[2])\n",
    "train_df['Has_expenses'] = train_df['Expenses'] > 0\n",
    "train_df['Is_Embryo'] = train_df['Age'] == 0"
   ]
  },
  {
   "cell_type": "markdown",
   "id": "d38887e5",
   "metadata": {},
   "source": [
    "*These specifies:*\n",
    "\n",
    "* If someone was alone or in a group.\n",
    "* Which deck someone was in.\n",
    "* Which side (Starboard or Port).\n",
    "* If the passenger was 0 years old (i.e, an embryo).\n",
    "\n",
    "Let's get rid of our temporary columns:"
   ]
  },
  {
   "cell_type": "code",
   "execution_count": 34,
   "id": "4cdc9d9a",
   "metadata": {},
   "outputs": [],
   "source": [
    "train_df.drop(['Adult_and_spending','Group_nums','Expenses'],axis=1,\\\n",
    "                   inplace=True)"
   ]
  },
  {
   "cell_type": "markdown",
   "id": "63a557d4",
   "metadata": {},
   "source": [
    "Our Final Dataset"
   ]
  },
  {
   "cell_type": "code",
   "execution_count": 35,
   "id": "5bfea180",
   "metadata": {},
   "outputs": [
    {
     "data": {
      "text/html": [
       "<div>\n",
       "<style scoped>\n",
       "    .dataframe tbody tr th:only-of-type {\n",
       "        vertical-align: middle;\n",
       "    }\n",
       "\n",
       "    .dataframe tbody tr th {\n",
       "        vertical-align: top;\n",
       "    }\n",
       "\n",
       "    .dataframe thead th {\n",
       "        text-align: right;\n",
       "    }\n",
       "</style>\n",
       "<table border=\"1\" class=\"dataframe\">\n",
       "  <thead>\n",
       "    <tr style=\"text-align: right;\">\n",
       "      <th></th>\n",
       "      <th>PassengerId</th>\n",
       "      <th>HomePlanet</th>\n",
       "      <th>CryoSleep</th>\n",
       "      <th>Cabin</th>\n",
       "      <th>Destination</th>\n",
       "      <th>Age</th>\n",
       "      <th>VIP</th>\n",
       "      <th>RoomService</th>\n",
       "      <th>FoodCourt</th>\n",
       "      <th>ShoppingMall</th>\n",
       "      <th>Spa</th>\n",
       "      <th>VRDeck</th>\n",
       "      <th>Transported</th>\n",
       "      <th>Adults</th>\n",
       "      <th>Grouped</th>\n",
       "      <th>Deck</th>\n",
       "      <th>Side</th>\n",
       "      <th>Has_expenses</th>\n",
       "      <th>Is_Embryo</th>\n",
       "    </tr>\n",
       "  </thead>\n",
       "  <tbody>\n",
       "    <tr>\n",
       "      <th>0</th>\n",
       "      <td>0001_01</td>\n",
       "      <td>Europa</td>\n",
       "      <td>False</td>\n",
       "      <td>B/0/P</td>\n",
       "      <td>TRAPPIST-1e</td>\n",
       "      <td>39.0</td>\n",
       "      <td>False</td>\n",
       "      <td>0.0</td>\n",
       "      <td>0.0</td>\n",
       "      <td>0.0</td>\n",
       "      <td>0.0</td>\n",
       "      <td>0.0</td>\n",
       "      <td>False</td>\n",
       "      <td>True</td>\n",
       "      <td>False</td>\n",
       "      <td>B</td>\n",
       "      <td>P</td>\n",
       "      <td>False</td>\n",
       "      <td>False</td>\n",
       "    </tr>\n",
       "    <tr>\n",
       "      <th>1</th>\n",
       "      <td>0002_01</td>\n",
       "      <td>Earth</td>\n",
       "      <td>False</td>\n",
       "      <td>F/0/S</td>\n",
       "      <td>TRAPPIST-1e</td>\n",
       "      <td>24.0</td>\n",
       "      <td>False</td>\n",
       "      <td>109.0</td>\n",
       "      <td>9.0</td>\n",
       "      <td>25.0</td>\n",
       "      <td>549.0</td>\n",
       "      <td>44.0</td>\n",
       "      <td>True</td>\n",
       "      <td>True</td>\n",
       "      <td>False</td>\n",
       "      <td>F</td>\n",
       "      <td>S</td>\n",
       "      <td>True</td>\n",
       "      <td>False</td>\n",
       "    </tr>\n",
       "    <tr>\n",
       "      <th>2</th>\n",
       "      <td>0003_01</td>\n",
       "      <td>Europa</td>\n",
       "      <td>False</td>\n",
       "      <td>A/0/S</td>\n",
       "      <td>TRAPPIST-1e</td>\n",
       "      <td>58.0</td>\n",
       "      <td>True</td>\n",
       "      <td>43.0</td>\n",
       "      <td>3576.0</td>\n",
       "      <td>0.0</td>\n",
       "      <td>6715.0</td>\n",
       "      <td>49.0</td>\n",
       "      <td>False</td>\n",
       "      <td>True</td>\n",
       "      <td>True</td>\n",
       "      <td>A</td>\n",
       "      <td>S</td>\n",
       "      <td>True</td>\n",
       "      <td>False</td>\n",
       "    </tr>\n",
       "    <tr>\n",
       "      <th>3</th>\n",
       "      <td>0003_02</td>\n",
       "      <td>Europa</td>\n",
       "      <td>False</td>\n",
       "      <td>A/0/S</td>\n",
       "      <td>TRAPPIST-1e</td>\n",
       "      <td>33.0</td>\n",
       "      <td>False</td>\n",
       "      <td>0.0</td>\n",
       "      <td>1283.0</td>\n",
       "      <td>371.0</td>\n",
       "      <td>3329.0</td>\n",
       "      <td>193.0</td>\n",
       "      <td>False</td>\n",
       "      <td>True</td>\n",
       "      <td>True</td>\n",
       "      <td>A</td>\n",
       "      <td>S</td>\n",
       "      <td>True</td>\n",
       "      <td>False</td>\n",
       "    </tr>\n",
       "    <tr>\n",
       "      <th>4</th>\n",
       "      <td>0004_01</td>\n",
       "      <td>Earth</td>\n",
       "      <td>False</td>\n",
       "      <td>F/1/S</td>\n",
       "      <td>TRAPPIST-1e</td>\n",
       "      <td>16.0</td>\n",
       "      <td>False</td>\n",
       "      <td>303.0</td>\n",
       "      <td>70.0</td>\n",
       "      <td>151.0</td>\n",
       "      <td>565.0</td>\n",
       "      <td>2.0</td>\n",
       "      <td>True</td>\n",
       "      <td>True</td>\n",
       "      <td>False</td>\n",
       "      <td>F</td>\n",
       "      <td>S</td>\n",
       "      <td>True</td>\n",
       "      <td>False</td>\n",
       "    </tr>\n",
       "  </tbody>\n",
       "</table>\n",
       "</div>"
      ],
      "text/plain": [
       "  PassengerId HomePlanet  CryoSleep  Cabin  Destination   Age    VIP  \\\n",
       "0     0001_01     Europa      False  B/0/P  TRAPPIST-1e  39.0  False   \n",
       "1     0002_01      Earth      False  F/0/S  TRAPPIST-1e  24.0  False   \n",
       "2     0003_01     Europa      False  A/0/S  TRAPPIST-1e  58.0   True   \n",
       "3     0003_02     Europa      False  A/0/S  TRAPPIST-1e  33.0  False   \n",
       "4     0004_01      Earth      False  F/1/S  TRAPPIST-1e  16.0  False   \n",
       "\n",
       "   RoomService  FoodCourt  ShoppingMall     Spa  VRDeck  Transported  Adults  \\\n",
       "0          0.0        0.0           0.0     0.0     0.0        False    True   \n",
       "1        109.0        9.0          25.0   549.0    44.0         True    True   \n",
       "2         43.0     3576.0           0.0  6715.0    49.0        False    True   \n",
       "3          0.0     1283.0         371.0  3329.0   193.0        False    True   \n",
       "4        303.0       70.0         151.0   565.0     2.0         True    True   \n",
       "\n",
       "   Grouped Deck Side  Has_expenses  Is_Embryo  \n",
       "0    False    B    P         False      False  \n",
       "1    False    F    S          True      False  \n",
       "2     True    A    S          True      False  \n",
       "3     True    A    S          True      False  \n",
       "4    False    F    S          True      False  "
      ]
     },
     "execution_count": 35,
     "metadata": {},
     "output_type": "execute_result"
    }
   ],
   "source": [
    "train_df.head()"
   ]
  },
  {
   "cell_type": "code",
   "execution_count": 36,
   "id": "033cfe99",
   "metadata": {},
   "outputs": [],
   "source": [
    "train_df.to_csv('Cleaned and imputed data.csv',index=False)"
   ]
  },
  {
   "cell_type": "markdown",
   "id": "c0670fdb",
   "metadata": {},
   "source": [
    "Pre-proccesing of Test Data"
   ]
  },
  {
   "cell_type": "code",
   "execution_count": 37,
   "id": "375d95cd",
   "metadata": {},
   "outputs": [],
   "source": [
    "test_df_copy = test_data.copy()\n",
    "\n",
    "test_df_copy['Expenses'] = test_df_copy[['RoomService', 'FoodCourt',\n",
    "                                           'ShoppingMall', 'Spa', 'VRDeck']].sum(axis=1)\n",
    "\n",
    "test_df_copy.Age = test_df_copy.Age.fillna(test_df_copy.Age.median())\n",
    "\n",
    "test_df_copy['Adult_spending_awake'] = (test_df_copy['Expenses'] > 0)\\\n",
    "                                     & (test_df_copy['Age'] >= 13)\\\n",
    "                                     & (test_df_copy['CryoSleep'] == False)\n",
    "\n",
    "test_df_copy['Cryosleep'] = 0\n",
    "test_df_copy.loc[test_df_copy['Expenses'] == 0, 'Cryosleep'] = 1\n",
    "test_df_copy.loc[test_df_copy.CryoSleep.astype('str') == 'True', 'Cryosleep'] = 1\n",
    "test_df_copy.loc[test_df_copy.CryoSleep.astype('str') == 'False', 'Cryosleep'] = 0\n",
    "test_df_copy['Cryosleep'] = test_df_copy['Cryosleep'].astype('bool')\n",
    "test_df_copy['CryoSleep'] = test_df_copy['Cryosleep']\n",
    "test_df_copy.drop('Cryosleep',axis=1,inplace=True)\n",
    "test_df_copy.drop('Name',axis=1,inplace=True)\n",
    "\n",
    "test_df_copy.loc[test_df_copy.CryoSleep == True,['RoomService', 'FoodCourt','ShoppingMall', 'Spa', 'VRDeck']] = 0\n",
    "\n",
    "test_df_copy['Adults'] = test_df_copy['Age'] >= 13\n",
    "\n",
    "test_df_copy['Adult_and_spending'] = (test_df_copy['Expenses'] > 0) & (test_df_copy['Age'] >=13)\n",
    "test_df_copy.loc[test_df_copy.Adult_and_spending == True]\n",
    "\n",
    "test_df_copy.RoomService = test_df_copy.RoomService.fillna(test_df_copy.RoomService.mean())\n",
    "test_df_copy.loc[test_df_copy.Adult_and_spending ==False, 'RoomService'] = 0\n",
    "\n",
    "test_df_copy.FoodCourt = test_df_copy.FoodCourt.fillna(test_df_copy.FoodCourt.mean())\n",
    "test_df_copy.loc[test_df_copy.Adult_and_spending ==False, 'FoodCourt'] = 0\n",
    "\n",
    "test_df_copy.ShoppingMall = test_df_copy.ShoppingMall.fillna(test_df_copy.ShoppingMall.mean())\n",
    "test_df_copy.loc[test_df_copy.Adult_and_spending ==False, 'ShoppingMall'] = 0\n",
    "\n",
    "test_df_copy.Spa = test_df_copy.Spa.fillna(test_df_copy.Spa.mean())\n",
    "test_df_copy.loc[test_df_copy.Adult_and_spending ==False, 'Spa'] = 0\n",
    "\n",
    "test_df_copy.VRDeck = test_df_copy.VRDeck.fillna(test_df_copy.VRDeck.mean())\n",
    "test_df_copy.loc[test_df_copy.Adult_and_spending ==False, 'VRDeck'] = 0\n",
    "\n",
    "test_df_copy.HomePlanet = test_df_copy.HomePlanet.fillna('Earth')\n",
    "test_df_copy.Destination = test_df_copy.Destination.fillna('TRAPPIST-1e')\n",
    "test_df_copy.VIP = test_df_copy.VIP.fillna('False')\n",
    "test_df_copy.VIP = test_df_copy.VIP.astype('bool')\n",
    "\n",
    "test_df_copy['Cabin'] = test_df_copy.Cabin.fillna(method='ffill')\n",
    "\n",
    "test_df_copy['Group_nums'] = test_df_copy.PassengerId.apply(lambda x: x.split('_')).apply(lambda x: x[0])\n",
    "test_df_copy['Grouped'] = ((test_df_copy['Group_nums'].value_counts() > 1).reindex(test_df_copy['Group_nums'])).tolist()\n",
    "test_df_copy['Deck'] = test_df_copy.Cabin.apply(lambda x: str(x).split('/')).apply(lambda x: x[0])\n",
    "test_df_copy['Side'] = test_df_copy.Cabin.apply(lambda x: str(x).split('/')).apply(lambda x: x[2])\n",
    "test_df_copy['Has_expenses'] = test_df_copy['Expenses'] > 0\n",
    "test_df_copy['Is_Embryo'] = test_df_copy['Age'] == 0\n",
    "\n",
    "test_df_copy.columns\n",
    "test_df_copy.drop(['Expenses', 'Adult_spending_awake', 'Adult_and_spending','Adults'],axis=1, inplace=True)\n",
    "\n",
    "test_df_copy.to_csv('Cleaned and imputed test data.csv',index=False)"
   ]
  },
  {
   "cell_type": "markdown",
   "id": "0a1415fa",
   "metadata": {},
   "source": [
    "# 5. Model Building <a class=\"anchor\" id=\"model\"></a>"
   ]
  },
  {
   "cell_type": "code",
   "execution_count": 38,
   "id": "93de3074",
   "metadata": {},
   "outputs": [],
   "source": [
    "df_train = pd.read_csv('Cleaned and imputed data.csv')\n",
    "df_test = pd.read_csv('Cleaned and imputed test data.csv')"
   ]
  },
  {
   "cell_type": "code",
   "execution_count": 39,
   "id": "c7c0e341",
   "metadata": {},
   "outputs": [
    {
     "data": {
      "text/html": [
       "<div>\n",
       "<style scoped>\n",
       "    .dataframe tbody tr th:only-of-type {\n",
       "        vertical-align: middle;\n",
       "    }\n",
       "\n",
       "    .dataframe tbody tr th {\n",
       "        vertical-align: top;\n",
       "    }\n",
       "\n",
       "    .dataframe thead th {\n",
       "        text-align: right;\n",
       "    }\n",
       "</style>\n",
       "<table border=\"1\" class=\"dataframe\">\n",
       "  <thead>\n",
       "    <tr style=\"text-align: right;\">\n",
       "      <th></th>\n",
       "      <th>PassengerId</th>\n",
       "      <th>HomePlanet</th>\n",
       "      <th>CryoSleep</th>\n",
       "      <th>Cabin</th>\n",
       "      <th>Destination</th>\n",
       "      <th>Age</th>\n",
       "      <th>VIP</th>\n",
       "      <th>RoomService</th>\n",
       "      <th>FoodCourt</th>\n",
       "      <th>ShoppingMall</th>\n",
       "      <th>Spa</th>\n",
       "      <th>VRDeck</th>\n",
       "      <th>Transported</th>\n",
       "      <th>Adults</th>\n",
       "      <th>Grouped</th>\n",
       "      <th>Deck</th>\n",
       "      <th>Side</th>\n",
       "      <th>Has_expenses</th>\n",
       "      <th>Is_Embryo</th>\n",
       "    </tr>\n",
       "  </thead>\n",
       "  <tbody>\n",
       "    <tr>\n",
       "      <th>0</th>\n",
       "      <td>0001_01</td>\n",
       "      <td>Europa</td>\n",
       "      <td>False</td>\n",
       "      <td>B/0/P</td>\n",
       "      <td>TRAPPIST-1e</td>\n",
       "      <td>39.0</td>\n",
       "      <td>False</td>\n",
       "      <td>0.0</td>\n",
       "      <td>0.0</td>\n",
       "      <td>0.0</td>\n",
       "      <td>0.0</td>\n",
       "      <td>0.0</td>\n",
       "      <td>False</td>\n",
       "      <td>True</td>\n",
       "      <td>False</td>\n",
       "      <td>B</td>\n",
       "      <td>P</td>\n",
       "      <td>False</td>\n",
       "      <td>False</td>\n",
       "    </tr>\n",
       "    <tr>\n",
       "      <th>1</th>\n",
       "      <td>0002_01</td>\n",
       "      <td>Earth</td>\n",
       "      <td>False</td>\n",
       "      <td>F/0/S</td>\n",
       "      <td>TRAPPIST-1e</td>\n",
       "      <td>24.0</td>\n",
       "      <td>False</td>\n",
       "      <td>109.0</td>\n",
       "      <td>9.0</td>\n",
       "      <td>25.0</td>\n",
       "      <td>549.0</td>\n",
       "      <td>44.0</td>\n",
       "      <td>True</td>\n",
       "      <td>True</td>\n",
       "      <td>False</td>\n",
       "      <td>F</td>\n",
       "      <td>S</td>\n",
       "      <td>True</td>\n",
       "      <td>False</td>\n",
       "    </tr>\n",
       "    <tr>\n",
       "      <th>2</th>\n",
       "      <td>0003_01</td>\n",
       "      <td>Europa</td>\n",
       "      <td>False</td>\n",
       "      <td>A/0/S</td>\n",
       "      <td>TRAPPIST-1e</td>\n",
       "      <td>58.0</td>\n",
       "      <td>True</td>\n",
       "      <td>43.0</td>\n",
       "      <td>3576.0</td>\n",
       "      <td>0.0</td>\n",
       "      <td>6715.0</td>\n",
       "      <td>49.0</td>\n",
       "      <td>False</td>\n",
       "      <td>True</td>\n",
       "      <td>True</td>\n",
       "      <td>A</td>\n",
       "      <td>S</td>\n",
       "      <td>True</td>\n",
       "      <td>False</td>\n",
       "    </tr>\n",
       "  </tbody>\n",
       "</table>\n",
       "</div>"
      ],
      "text/plain": [
       "  PassengerId HomePlanet  CryoSleep  Cabin  Destination   Age    VIP  \\\n",
       "0     0001_01     Europa      False  B/0/P  TRAPPIST-1e  39.0  False   \n",
       "1     0002_01      Earth      False  F/0/S  TRAPPIST-1e  24.0  False   \n",
       "2     0003_01     Europa      False  A/0/S  TRAPPIST-1e  58.0   True   \n",
       "\n",
       "   RoomService  FoodCourt  ShoppingMall     Spa  VRDeck  Transported  Adults  \\\n",
       "0          0.0        0.0           0.0     0.0     0.0        False    True   \n",
       "1        109.0        9.0          25.0   549.0    44.0         True    True   \n",
       "2         43.0     3576.0           0.0  6715.0    49.0        False    True   \n",
       "\n",
       "   Grouped Deck Side  Has_expenses  Is_Embryo  \n",
       "0    False    B    P         False      False  \n",
       "1    False    F    S          True      False  \n",
       "2     True    A    S          True      False  "
      ]
     },
     "execution_count": 39,
     "metadata": {},
     "output_type": "execute_result"
    }
   ],
   "source": [
    "df_train.head(3)"
   ]
  },
  {
   "cell_type": "code",
   "execution_count": 40,
   "id": "b9f52092",
   "metadata": {},
   "outputs": [
    {
     "data": {
      "text/html": [
       "<div>\n",
       "<style scoped>\n",
       "    .dataframe tbody tr th:only-of-type {\n",
       "        vertical-align: middle;\n",
       "    }\n",
       "\n",
       "    .dataframe tbody tr th {\n",
       "        vertical-align: top;\n",
       "    }\n",
       "\n",
       "    .dataframe thead th {\n",
       "        text-align: right;\n",
       "    }\n",
       "</style>\n",
       "<table border=\"1\" class=\"dataframe\">\n",
       "  <thead>\n",
       "    <tr style=\"text-align: right;\">\n",
       "      <th></th>\n",
       "      <th>PassengerId</th>\n",
       "      <th>HomePlanet</th>\n",
       "      <th>CryoSleep</th>\n",
       "      <th>Cabin</th>\n",
       "      <th>Destination</th>\n",
       "      <th>Age</th>\n",
       "      <th>VIP</th>\n",
       "      <th>RoomService</th>\n",
       "      <th>FoodCourt</th>\n",
       "      <th>ShoppingMall</th>\n",
       "      <th>Spa</th>\n",
       "      <th>VRDeck</th>\n",
       "      <th>Group_nums</th>\n",
       "      <th>Grouped</th>\n",
       "      <th>Deck</th>\n",
       "      <th>Side</th>\n",
       "      <th>Has_expenses</th>\n",
       "      <th>Is_Embryo</th>\n",
       "    </tr>\n",
       "  </thead>\n",
       "  <tbody>\n",
       "    <tr>\n",
       "      <th>0</th>\n",
       "      <td>0013_01</td>\n",
       "      <td>Earth</td>\n",
       "      <td>True</td>\n",
       "      <td>G/3/S</td>\n",
       "      <td>TRAPPIST-1e</td>\n",
       "      <td>27.0</td>\n",
       "      <td>False</td>\n",
       "      <td>0.0</td>\n",
       "      <td>0.0</td>\n",
       "      <td>0.0</td>\n",
       "      <td>0.0</td>\n",
       "      <td>0.0</td>\n",
       "      <td>13</td>\n",
       "      <td>False</td>\n",
       "      <td>G</td>\n",
       "      <td>S</td>\n",
       "      <td>False</td>\n",
       "      <td>False</td>\n",
       "    </tr>\n",
       "    <tr>\n",
       "      <th>1</th>\n",
       "      <td>0018_01</td>\n",
       "      <td>Earth</td>\n",
       "      <td>False</td>\n",
       "      <td>F/4/S</td>\n",
       "      <td>TRAPPIST-1e</td>\n",
       "      <td>19.0</td>\n",
       "      <td>False</td>\n",
       "      <td>0.0</td>\n",
       "      <td>9.0</td>\n",
       "      <td>0.0</td>\n",
       "      <td>2823.0</td>\n",
       "      <td>0.0</td>\n",
       "      <td>18</td>\n",
       "      <td>False</td>\n",
       "      <td>F</td>\n",
       "      <td>S</td>\n",
       "      <td>True</td>\n",
       "      <td>False</td>\n",
       "    </tr>\n",
       "  </tbody>\n",
       "</table>\n",
       "</div>"
      ],
      "text/plain": [
       "  PassengerId HomePlanet  CryoSleep  Cabin  Destination   Age    VIP  \\\n",
       "0     0013_01      Earth       True  G/3/S  TRAPPIST-1e  27.0  False   \n",
       "1     0018_01      Earth      False  F/4/S  TRAPPIST-1e  19.0  False   \n",
       "\n",
       "   RoomService  FoodCourt  ShoppingMall     Spa  VRDeck  Group_nums  Grouped  \\\n",
       "0          0.0        0.0           0.0     0.0     0.0          13    False   \n",
       "1          0.0        9.0           0.0  2823.0     0.0          18    False   \n",
       "\n",
       "  Deck Side  Has_expenses  Is_Embryo  \n",
       "0    G    S         False      False  \n",
       "1    F    S          True      False  "
      ]
     },
     "execution_count": 40,
     "metadata": {},
     "output_type": "execute_result"
    }
   ],
   "source": [
    "df_test.head(2)"
   ]
  },
  {
   "cell_type": "markdown",
   "id": "506286fa",
   "metadata": {},
   "source": [
    "Now we are going to do some feature selection."
   ]
  },
  {
   "cell_type": "code",
   "execution_count": 41,
   "id": "59083c36",
   "metadata": {},
   "outputs": [
    {
     "data": {
      "text/plain": [
       "PassengerId      object\n",
       "HomePlanet       object\n",
       "CryoSleep          bool\n",
       "Cabin            object\n",
       "Destination      object\n",
       "Age             float64\n",
       "VIP                bool\n",
       "RoomService     float64\n",
       "FoodCourt       float64\n",
       "ShoppingMall    float64\n",
       "Spa             float64\n",
       "VRDeck          float64\n",
       "Transported        bool\n",
       "Adults             bool\n",
       "Grouped            bool\n",
       "Deck             object\n",
       "Side             object\n",
       "Has_expenses       bool\n",
       "Is_Embryo          bool\n",
       "dtype: object"
      ]
     },
     "execution_count": 41,
     "metadata": {},
     "output_type": "execute_result"
    }
   ],
   "source": [
    "df_train.dtypes"
   ]
  },
  {
   "cell_type": "code",
   "execution_count": 42,
   "id": "12482f15",
   "metadata": {},
   "outputs": [],
   "source": [
    "features = ['HomePlanet', 'CryoSleep', 'Destination', 'Age', 'VIP',\n",
    "            'RoomService', 'FoodCourt', 'ShoppingMall', 'Spa', 'VRDeck', \n",
    "            'Grouped', 'Deck', 'Has_expenses', 'Side', 'Is_Embryo']"
   ]
  },
  {
   "cell_type": "markdown",
   "id": "dddcef26",
   "metadata": {},
   "source": [
    "These are the features that I decided to use for model training and testing. I don't know if these are the best ones. So you can try different ones, and could even get a better result than mine!\n",
    "\n",
    "Now we will assign the data in the training set to feature and target variables, and do a train-test-split split for evaluation"
   ]
  },
  {
   "cell_type": "code",
   "execution_count": 43,
   "id": "2ec96dc0",
   "metadata": {},
   "outputs": [],
   "source": [
    "X = pd.get_dummies(df_train[features])\n",
    "y = df_train['Transported']"
   ]
  },
  {
   "cell_type": "code",
   "execution_count": 44,
   "id": "f4d09741",
   "metadata": {},
   "outputs": [],
   "source": [
    "X_train,X_test,y_train,y_test = train_test_split(X,y,random_state=1)"
   ]
  },
  {
   "cell_type": "code",
   "execution_count": 45,
   "id": "6c262f33",
   "metadata": {},
   "outputs": [
    {
     "data": {
      "text/plain": [
       "0.8008279668813247"
      ]
     },
     "execution_count": 45,
     "metadata": {},
     "output_type": "execute_result"
    }
   ],
   "source": [
    "model = LogisticRegression(max_iter=10000)\n",
    "model.fit(X_train,y_train)\n",
    "model.score(X_test,y_test)"
   ]
  },
  {
   "cell_type": "markdown",
   "id": "662c57c7",
   "metadata": {},
   "source": [
    "Score of `0.800` Not bad!\n",
    "\n",
    "Since we actually have to predict the test set that Kaggle has provided, we want to use all of the train data to train the model. The more data the model gets to learn from, the better the prediction."
   ]
  },
  {
   "cell_type": "code",
   "execution_count": 46,
   "id": "246dd877",
   "metadata": {},
   "outputs": [
    {
     "data": {
      "text/plain": [
       "0.7929368457379501"
      ]
     },
     "execution_count": 46,
     "metadata": {},
     "output_type": "execute_result"
    }
   ],
   "source": [
    "model2 = LogisticRegression(max_iter=10000)\n",
    "model2.fit(X,y)\n",
    "model2.score(X,y)"
   ]
  },
  {
   "cell_type": "markdown",
   "id": "3a2ae0e4",
   "metadata": {},
   "source": [
    "Let's predict our test set now and save it:"
   ]
  },
  {
   "cell_type": "code",
   "execution_count": 47,
   "id": "e8807c9f",
   "metadata": {},
   "outputs": [],
   "source": [
    "y_pred_log2 = model2.predict(pd.get_dummies(df_test[features]))"
   ]
  },
  {
   "cell_type": "markdown",
   "id": "77bbf48d",
   "metadata": {},
   "source": [
    "Now I'll use the only other classification model I knew at the time,` K-Neighbors Classifier`."
   ]
  },
  {
   "cell_type": "code",
   "execution_count": 48,
   "id": "521cbf47",
   "metadata": {},
   "outputs": [],
   "source": [
    "#knn = KNeighborsClassifier()\n",
    "#param_grid = {'n_neighbors':np.arange(2,15)}\n",
    "#knn_gscv = GridSearchCV(knn, param_grid, cv=5)\n",
    "#knn_gscv.fit(X,y)\n",
    "#knn_gscv.best_params_"
   ]
  },
  {
   "cell_type": "code",
   "execution_count": 49,
   "id": "478a59c0",
   "metadata": {},
   "outputs": [
    {
     "data": {
      "text/plain": [
       "0.8129529506499482"
      ]
     },
     "execution_count": 49,
     "metadata": {},
     "output_type": "execute_result"
    }
   ],
   "source": [
    "knn2 = KNeighborsClassifier(n_neighbors=14)\n",
    "knn2.fit(X,y)\n",
    "knn2.score(X,y)"
   ]
  },
  {
   "cell_type": "code",
   "execution_count": 50,
   "id": "5a5f79a4",
   "metadata": {},
   "outputs": [],
   "source": [
    "#Saving the output\n",
    "y_pred_knn = knn2.predict(pd.get_dummies(df_test[features]))"
   ]
  },
  {
   "cell_type": "markdown",
   "id": "bd2c0944",
   "metadata": {},
   "source": [
    "Now, I did see that the model that seemed to perform great on this data is Gradient Boosting Classifier. So I looked it up and just used it with default hyperparameters:"
   ]
  },
  {
   "cell_type": "code",
   "execution_count": 51,
   "id": "9b002fa0",
   "metadata": {},
   "outputs": [
    {
     "data": {
      "text/plain": [
       "0.8130679857356494"
      ]
     },
     "execution_count": 51,
     "metadata": {},
     "output_type": "execute_result"
    }
   ],
   "source": [
    "#Model\n",
    "gbc = GradientBoostingClassifier(random_state = 1)\n",
    "  \n",
    "# Fit to training set\n",
    "gbc.fit(X, y)\n",
    "gbc.score(X,y)"
   ]
  },
  {
   "cell_type": "markdown",
   "id": "fcc430d3",
   "metadata": {},
   "source": [
    "Seems slightly worse than our K-Neighbors Classifier. But still, we'll keep its predictions as well."
   ]
  },
  {
   "cell_type": "code",
   "execution_count": 52,
   "id": "fde89aee",
   "metadata": {},
   "outputs": [],
   "source": [
    "#save the prediction\n",
    "y_pred_gbc = gbc.predict(pd.get_dummies((df_test[features])))"
   ]
  },
  {
   "cell_type": "markdown",
   "id": "23ef9357",
   "metadata": {},
   "source": [
    "Since Gradient Boosting was performing well, and I had also stumbled upon Extreme Gradient Boosting, it only seems logical to try that out as well (maybe we'll get extremely good results):"
   ]
  },
  {
   "cell_type": "code",
   "execution_count": 53,
   "id": "9bba8c1b",
   "metadata": {},
   "outputs": [
    {
     "data": {
      "text/plain": [
       "0.8887610721269987"
      ]
     },
     "execution_count": 53,
     "metadata": {},
     "output_type": "execute_result"
    }
   ],
   "source": [
    "from xgboost import XGBClassifier\n",
    "xgb = XGBClassifier()\n",
    "xgb.fit(X,y)\n",
    "xgb.score(X,y)"
   ]
  },
  {
   "cell_type": "code",
   "execution_count": 54,
   "id": "1cbba716",
   "metadata": {},
   "outputs": [],
   "source": [
    "#save the prediction\n",
    "y_pred_xgb = xgb.predict(pd.get_dummies((df_test[features])))"
   ]
  },
  {
   "cell_type": "markdown",
   "id": "448cfe92",
   "metadata": {},
   "source": [
    "The last thing I want to do is tune the Gradient Boost further using GridSearchCV"
   ]
  },
  {
   "cell_type": "code",
   "execution_count": 55,
   "id": "5eba9d2f",
   "metadata": {},
   "outputs": [],
   "source": [
    "# = GradientBoostingClassifier()\n",
    "#parameters = {\n",
    "#    \"n_estimators\":[5,50,100],\n",
    "#    \"max_depth\":[1,3,5],\n",
    "#   \"learning_rate\":[0.01,0.1,1]\n",
    "#}\n",
    "\n",
    "#gbcv = RandomizedSearchCV(gbc, parameters, n_iter=27, scoring='accuracy', n_jobs=-1, cv=5, random_state=1)\n",
    "#gbcv.fit(X,y)\n",
    "#gbcv.best_params_"
   ]
  },
  {
   "cell_type": "code",
   "execution_count": 56,
   "id": "5d33a72e",
   "metadata": {},
   "outputs": [
    {
     "data": {
      "text/plain": [
       "0.831013459105027"
      ]
     },
     "execution_count": 56,
     "metadata": {},
     "output_type": "execute_result"
    }
   ],
   "source": [
    "gbcv = GradientBoostingClassifier(n_estimators=50,max_depth=5,learning_rate=0.1) #best params from gscv\n",
    "\n",
    "gbcv.fit(X,y)\n",
    "gbcv.score(X,y)"
   ]
  },
  {
   "cell_type": "code",
   "execution_count": 57,
   "id": "5560361a",
   "metadata": {},
   "outputs": [],
   "source": [
    "#save the prediction\n",
    "pred_y_gbc2 = gbcv.predict(pd.get_dummies((df_test[features])))"
   ]
  },
  {
   "cell_type": "markdown",
   "id": "18cd7358",
   "metadata": {},
   "source": [
    "And so, we are done!\n",
    "\n",
    "Time for submission."
   ]
  },
  {
   "cell_type": "code",
   "execution_count": 58,
   "id": "75f186d0",
   "metadata": {},
   "outputs": [],
   "source": [
    "gbc_out = pd.DataFrame({'PassengerId':df_test.PassengerId, 'Transported':pred_y_gbc2})\n",
    "gbc_out.to_csv('submission.csv',index=False)"
   ]
  },
  {
   "cell_type": "markdown",
   "id": "d4bd3d42",
   "metadata": {},
   "source": [
    "# 6. Conclusion <a class=\"anchor\" id=\"conclusion\"></a>\n",
    "Hope you enjoyed my notebook and got to learn something. I recognize that I could probably increase my accuracy further, but I am probably not going to pursue that for now.\n",
    "\n",
    "Still, I'd appreciate any feedback on this notebook.\n",
    "\n",
    "I wish you the best on your data science journey. Farewell"
   ]
  },
  {
   "cell_type": "markdown",
   "id": "a9dc4a10",
   "metadata": {},
   "source": [
    "<p style=\"text-color:gray; text-align:center\">Copyright © Nikhil Sharma</p>"
   ]
  }
 ],
 "metadata": {
  "kernelspec": {
   "display_name": "Python 3 (ipykernel)",
   "language": "python",
   "name": "python3"
  },
  "language_info": {
   "codemirror_mode": {
    "name": "ipython",
    "version": 3
   },
   "file_extension": ".py",
   "mimetype": "text/x-python",
   "name": "python",
   "nbconvert_exporter": "python",
   "pygments_lexer": "ipython3",
   "version": "3.9.12"
  },
  "latex_envs": {
   "LaTeX_envs_menu_present": true,
   "autoclose": false,
   "autocomplete": true,
   "bibliofile": "biblio.bib",
   "cite_by": "apalike",
   "current_citInitial": 1,
   "eqLabelWithNumbers": true,
   "eqNumInitial": 1,
   "hotkeys": {
    "equation": "Ctrl-E",
    "itemize": "Ctrl-I"
   },
   "labels_anchors": false,
   "latex_user_defs": false,
   "report_style_numbering": false,
   "user_envs_cfg": false
  },
  "nbTranslate": {
   "displayLangs": [
    "*"
   ],
   "hotkey": "alt-t",
   "langInMainMenu": true,
   "sourceLang": "en",
   "targetLang": "fr",
   "useGoogleTranslate": true
  },
  "varInspector": {
   "cols": {
    "lenName": 16,
    "lenType": 16,
    "lenVar": 40
   },
   "kernels_config": {
    "python": {
     "delete_cmd_postfix": "",
     "delete_cmd_prefix": "del ",
     "library": "var_list.py",
     "varRefreshCmd": "print(var_dic_list())"
    },
    "r": {
     "delete_cmd_postfix": ") ",
     "delete_cmd_prefix": "rm(",
     "library": "var_list.r",
     "varRefreshCmd": "cat(var_dic_list()) "
    }
   },
   "types_to_exclude": [
    "module",
    "function",
    "builtin_function_or_method",
    "instance",
    "_Feature"
   ],
   "window_display": false
  }
 },
 "nbformat": 4,
 "nbformat_minor": 5
}
